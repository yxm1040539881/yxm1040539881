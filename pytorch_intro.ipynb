{
  "cells": [
    {
      "cell_type": "markdown",
      "metadata": {
        "id": "view-in-github",
        "colab_type": "text"
      },
      "source": [
        "<a href=\"https://colab.research.google.com/github/yxm1040539881/yxm1040539881/blob/main/pytorch_intro.ipynb\" target=\"_parent\"><img src=\"https://colab.research.google.com/assets/colab-badge.svg\" alt=\"Open In Colab\"/></a>"
      ]
    },
    {
      "cell_type": "markdown",
      "metadata": {
        "id": "dB3m__yBtLOa"
      },
      "source": [
        "# Introduction to PyTorch \n",
        "\n",
        "Author: YanSong\n",
        "\n",
        "Institution: CASIA\n",
        "\n",
        "E-mail: yan.song@ia.ac.cn\n",
        "\n"
      ]
    },
    {
      "cell_type": "markdown",
      "metadata": {
        "id": "IwhAs4lEk9XF"
      },
      "source": [
        "install necessary package"
      ]
    },
    {
      "cell_type": "code",
      "execution_count": null,
      "metadata": {
        "id": "kvDJrsWNk9XG"
      },
      "outputs": [],
      "source": [
        "import os\n",
        "import sys\n",
        "import random\n",
        "import numpy as np\n",
        "import time\n",
        "\n",
        "CURRENT_PATH = os.getcwd()"
      ]
    },
    {
      "cell_type": "code",
      "source": [
        "ls"
      ],
      "metadata": {
        "colab": {
          "base_uri": "https://localhost:8080/"
        },
        "id": "wfnyHX1ZlGz8",
        "outputId": "eed71fae-cc80-4aeb-ee7d-e4ca52c477d3"
      },
      "execution_count": null,
      "outputs": [
        {
          "output_type": "stream",
          "name": "stdout",
          "text": [
            "\u001b[0m\u001b[01;34msample_data\u001b[0m/\n"
          ]
        }
      ]
    },
    {
      "cell_type": "markdown",
      "metadata": {
        "id": "vtYytKI9k9XH"
      },
      "source": [
        "## Installing pytorch 下载PyTorch"
      ]
    },
    {
      "cell_type": "markdown",
      "metadata": {
        "id": "9eixM2skk9XH"
      },
      "source": [
        "Pytorch是一个开源的的机器学习框架, [Official site](https://pytorch.org)\n",
        "1. 使用 pip or conda install\n",
        "    ```shell\n",
        "    conda install pytorch\n",
        "\n",
        "    pip3 install torch\n",
        "    ```\n",
        "\n",
        "2. 或者参照官网的下载方式\n",
        "    ![这是图片](./MacInstall.png \"Magic Gardens\")\n",
        "\n",
        "3. 如果有NVIDIA独立显卡，需首先在NVIDIA官网安装适合的CUDA版本\n",
        "\n",
        "\n"
      ]
    },
    {
      "cell_type": "markdown",
      "metadata": {
        "id": "4m-xXNTXk9XH"
      },
      "source": [
        "\n",
        "若下载速度较慢，可以给pip添加清华源：\n",
        "```shell\n",
        "pip config set global.index-url https://pypi.tuna.tsinghua.edu.cn/simple\n",
        "```\n",
        "\n",
        "或者直接\n",
        "\n",
        "```shell\n",
        "pip install xxx -i https://pypi.tuna.tsinghua.edu.cn/simple\n",
        "```"
      ]
    },
    {
      "cell_type": "code",
      "execution_count": null,
      "metadata": {
        "id": "mcbvx-WKUUPq",
        "outputId": "6863baa4-bab2-431e-ff00-86c788c60ac5"
      },
      "outputs": [
        {
          "name": "stdout",
          "output_type": "stream",
          "text": [
            "Requirement already satisfied: torch in /Users/yansong/Desktop/neurips benchmark track/code/exp-venv/lib/python3.9/site-packages (1.11.0)\n",
            "Requirement already satisfied: typing-extensions in /Users/yansong/Desktop/neurips benchmark track/code/exp-venv/lib/python3.9/site-packages (from torch) (4.2.0)\n",
            "\n",
            "\u001b[1m[\u001b[0m\u001b[34;49mnotice\u001b[0m\u001b[1;39;49m]\u001b[0m\u001b[39;49m A new release of pip available: \u001b[0m\u001b[31;49m22.1.2\u001b[0m\u001b[39;49m -> \u001b[0m\u001b[32;49m22.2.2\u001b[0m\n",
            "\u001b[1m[\u001b[0m\u001b[34;49mnotice\u001b[0m\u001b[1;39;49m]\u001b[0m\u001b[39;49m To update, run: \u001b[0m\u001b[32;49mpip install --upgrade pip\u001b[0m\n",
            "Note: you may need to restart the kernel to use updated packages.\n"
          ]
        }
      ],
      "source": [
        "pip install torch"
      ]
    },
    {
      "cell_type": "markdown",
      "metadata": {
        "id": "LgmJY1U9WFI2"
      },
      "source": [
        "Importing pytoch"
      ]
    },
    {
      "cell_type": "code",
      "execution_count": null,
      "metadata": {
        "id": "AhDg3MjHUePV",
        "colab": {
          "base_uri": "https://localhost:8080/"
        },
        "outputId": "9fd0d1e5-f16a-4fff-fb42-6d780e3def1c"
      },
      "outputs": [
        {
          "output_type": "stream",
          "name": "stdout",
          "text": [
            "1.12.1+cu113\n"
          ]
        }
      ],
      "source": [
        "import torch\n",
        "print(torch.__version__)\n",
        "from torch import nn"
      ]
    },
    {
      "cell_type": "markdown",
      "metadata": {
        "id": "IRajhtvtk9XJ"
      },
      "source": [
        "## PyTorch数据结构\n"
      ]
    },
    {
      "cell_type": "markdown",
      "metadata": {
        "id": "UV44X-bCk9XJ"
      },
      "source": [
        "Tensor(张量)是Pytorch中的基础数据结构，为我们提供了描述具有任意数量轴的$n$维数组的通用方法。例如，向量是一阶张量，矩阵是二阶张量。\n",
        "\n",
        "Tensor与Numpy相似，但Tensor能在GPU上运行。\n",
        "\n",
        "张量用特殊字体的大写字母表示，它们的索引机制与矩阵类似。\n",
        "\n",
        "当我们开始处理图像时，张量将变得更加重要，图像以n维数组形式出现， 其中3个轴对应于高度、宽度，以及一个通道（channel）轴， 用于表示颜色通道（红色、绿色和蓝色）。"
      ]
    },
    {
      "cell_type": "markdown",
      "metadata": {
        "id": "9XS-eqlJWKp3"
      },
      "source": [
        "\n",
        "![image](./Data_type.png)\n"
      ]
    },
    {
      "cell_type": "markdown",
      "metadata": {
        "id": "JMVfjI-rk9XJ"
      },
      "source": [
        "### Scalar value\n",
        "\n",
        "lower-case letters $x\\in\\mathbb{R}$."
      ]
    },
    {
      "cell_type": "code",
      "execution_count": null,
      "metadata": {
        "id": "jrtmJyTYU0ri",
        "colab": {
          "base_uri": "https://localhost:8080/"
        },
        "outputId": "4ab91852-2cc3-43a8-9a8c-a2a16989f127"
      },
      "outputs": [
        {
          "output_type": "stream",
          "name": "stdout",
          "text": [
            "tensor(1.0136e-35)\n",
            "tensor(0.5437)\n",
            "tensor(0)\n",
            "tensor(0.)\n",
            "tensor(1.3370)\n",
            "1.5\n"
          ]
        }
      ],
      "source": [
        "print(torch.empty([]))                              \n",
        "print(torch.rand([]))                               # Returns a tensor filled with random numbers from a uniform distribution on the interval [0,1)\n",
        "print(torch.zeros([], dtype=torch.long))            # Returns a tensor filled with the scalar value 0\n",
        "print(torch.zeros([], dtype=torch.float))\n",
        "print(torch.tensor(1.337))\n",
        "print(torch.tensor(1.5).item())                     # Returns the value of this tensor as a standard Python number.\n",
        "\n"
      ]
    },
    {
      "cell_type": "code",
      "execution_count": null,
      "metadata": {
        "id": "GYOzWfnTWP27",
        "colab": {
          "base_uri": "https://localhost:8080/"
        },
        "outputId": "49aa876b-33f2-4859-b247-c97cb6dc3274"
      },
      "outputs": [
        {
          "output_type": "stream",
          "name": "stdout",
          "text": [
            "tensor(4.)\n",
            "tensor(-1.4000)\n",
            "tensor(0.4815)\n",
            "tensor(3.5100)\n",
            "tensor(2.0307)\n"
          ]
        }
      ],
      "source": [
        "x = torch.tensor(1.3)\n",
        "y = torch.tensor(2.7)\n",
        "print(x+y)              #summation\n",
        "print(x-y)              #substraction\n",
        "print(x/y)              #division\n",
        "print(x*y)              #multiplication\n",
        "print(x**y)             #exponential"
      ]
    },
    {
      "cell_type": "markdown",
      "metadata": {
        "id": "Cns1SG5Ak9XK"
      },
      "source": [
        "### Vectors"
      ]
    },
    {
      "cell_type": "markdown",
      "metadata": {
        "id": "nz3ApiLlWwJ3"
      },
      "source": [
        "\n",
        "lowercase bold letters $\\mathbf{x}\\in\\mathbb{R}^n$.\n",
        "\n",
        "![image](./vectors.png)\n"
      ]
    },
    {
      "cell_type": "code",
      "execution_count": null,
      "metadata": {
        "id": "muC14-ObWvPk",
        "colab": {
          "base_uri": "https://localhost:8080/"
        },
        "outputId": "1fba53e1-116b-4890-a6db-9de224874a3c"
      },
      "outputs": [
        {
          "output_type": "stream",
          "name": "stdout",
          "text": [
            "x =  tensor([1, 2, 3])\n",
            "x + y =  tensor([5, 7, 9])\n",
            "2x =  tensor([2, 4, 6])\n",
            "x² =  tensor([1, 4, 9])\n",
            "x * y =  tensor([ 4, 10, 18])\n",
            "xᵀy  = tensor(32)\n",
            "xyᵀ =  tensor([[ 4,  5,  6],\n",
            "        [ 8, 10, 12],\n",
            "        [12, 15, 18]])\n"
          ]
        }
      ],
      "source": [
        "x = torch.tensor([1, 2, 3])\n",
        "y = torch.tensor([4,5,6])\n",
        "\n",
        "print('x = ', x)\n",
        "print('x + y = ', x+y)\n",
        "print('2x = ', x*2)\n",
        "print('x\\N{SUPERSCRIPT TWO} = ', x**2)\n",
        "print('x * y = ', x*y)\n",
        "print('xᵀy  =', x.dot(y))\n",
        "print('xyᵀ = ', torch.ger(x,y))\n"
      ]
    },
    {
      "cell_type": "markdown",
      "metadata": {
        "id": "VU5Bovgrk9XL"
      },
      "source": [
        "### Matrices"
      ]
    },
    {
      "cell_type": "markdown",
      "metadata": {
        "id": "4Q3O59cpXlFx"
      },
      "source": [
        "\n",
        "\n",
        "\n",
        "uppercase bold letters $\\mathbf{M}\\in\\mathbb{R}^{n\\ \\times\\ m}$\n",
        "\n",
        "![image](./matrices.png)"
      ]
    },
    {
      "cell_type": "code",
      "execution_count": null,
      "metadata": {
        "id": "FuKv-MRFXqAE",
        "colab": {
          "base_uri": "https://localhost:8080/"
        },
        "outputId": "c198667f-ce8e-4f5c-fffc-da5148fd1bf9"
      },
      "outputs": [
        {
          "output_type": "stream",
          "name": "stdout",
          "text": [
            "x =  tensor([[1, 2, 3],\n",
            "        [4, 5, 6]])\n",
            "x + y =  tensor([[ 5,  7,  9],\n",
            "        [ 8, 10, 12]])\n",
            "x dimension =  2\n",
            "x shape =  torch.Size([2, 3])\n",
            "x * y =  tensor([[ 4, 10, 18],\n",
            "        [16, 25, 36]])\n",
            "xᵀ =  tensor([[1, 4],\n",
            "        [2, 5],\n",
            "        [3, 6]])\n",
            "xyᵀ =  tensor([[ 50,  14],\n",
            "        [122,  32]])\n"
          ]
        }
      ],
      "source": [
        "x = torch.tensor([[1, 2, 3], [4, 5, 6]])\n",
        "print('x = ', x)\n",
        "print('x + y = ', x+y)\n",
        "print('x dimension = ', x.dim())\n",
        "print('x shape = ', x.shape)\n",
        "print('x * y = ', x*y)\n",
        "print('xᵀ = ', x.t())\n",
        "\n",
        "y = torch.tensor([[7, 8, 9], [1, 2, 3]])\n",
        "print('xyᵀ = ', x.mm(y.t()))"
      ]
    },
    {
      "cell_type": "markdown",
      "metadata": {
        "id": "xjSo13OCk9XM"
      },
      "source": [
        "### Tensors\n"
      ]
    },
    {
      "cell_type": "markdown",
      "metadata": {
        "id": "q9Bp8ge6YX81"
      },
      "source": [
        "upper-case Euler script letters: $\\mathcal{X}\\in \\mathbb{R}^{a_1\\ \\times\\ \\cdots\\  \\times\\ a_n}$\n",
        "\n",
        "![image](./tensors1.png)\n",
        "![image](./tensor2.png)\n"
      ]
    },
    {
      "cell_type": "markdown",
      "metadata": {
        "id": "6hVevGpesZAR"
      },
      "source": [
        "#### Tensor Initialisation"
      ]
    },
    {
      "cell_type": "code",
      "execution_count": null,
      "metadata": {
        "id": "TMM0VMG4sbnr",
        "outputId": "d76555b5-2d49-41e0-eec4-6aefb6056176"
      },
      "outputs": [
        {
          "name": "stdout",
          "output_type": "stream",
          "text": [
            "tensor([[ 0.0000e+00,  1.5846e+29,  2.4727e-20],\n",
            "        [-2.0005e+00,  9.8091e-45,  0.0000e+00]])\n",
            "tensor([[0., 0., 0.],\n",
            "        [0., 0., 0.]])\n",
            "tensor([[1., 0., 0.],\n",
            "        [0., 1., 0.],\n",
            "        [0., 0., 1.]])\n",
            "tensor([[7, 7, 7],\n",
            "        [7, 7, 7]], dtype=torch.int16)\n",
            "tensor([[0.6738, 0.8698, 0.7385],\n",
            "        [0.4250, 0.6802, 0.5724]])\n",
            "tensor([[ 1.0955, -0.5324,  0.3013],\n",
            "        [-0.4659, -1.0230,  0.0111]])\n",
            "tensor([[2, 2, 5],\n",
            "        [7, 8, 5]])\n",
            "tensor([4, 0, 2, 1, 3])\n"
          ]
        }
      ],
      "source": [
        "print(torch.empty(2, 3))                                #uninitialised\n",
        "print(torch.zeros(2, 3))                                #zero tensor\n",
        "print(torch.eye(3, 3))                                  #identity tensor\n",
        "print(torch.full((2, 3), 7, dtype=torch.int16))         #full of entry 7\n",
        "print(torch.rand(2, 3))                                 #randomly initialised from [0,1]\n",
        "print(torch.randn(2, 3))                                #randomly initialised from Normal(0,1)\n",
        "print(torch.randint(low=0, high=10, size=(2, 3)))       #randomly initialised from specified integer set\n",
        "print(torch.randperm(n=5))                              # random permutation of ints from 0 to n-1"
      ]
    },
    {
      "cell_type": "markdown",
      "metadata": {
        "id": "NYC9q7bKs2Yf"
      },
      "source": [
        "### NumPy Bridge\n",
        "\n",
        "**numpy to pytorch**"
      ]
    },
    {
      "cell_type": "code",
      "execution_count": null,
      "metadata": {
        "id": "RGeMElQBs1dd",
        "outputId": "7f7900e3-e328-4559-a1e0-2fa8306579a3"
      },
      "outputs": [
        {
          "name": "stdout",
          "output_type": "stream",
          "text": [
            "numpy n =  [1. 1. 1. 1. 1.]\n",
            "torch t = tensor([1., 1., 1., 1., 1.], dtype=torch.float64)\n",
            "\n",
            "after add 1, numpy =  [2. 2. 2. 2. 2.]\n",
            "torch =  tensor([2., 2., 2., 2., 2.], dtype=torch.float64)\n"
          ]
        }
      ],
      "source": [
        "import numpy as np\n",
        "n = np.ones(5)\n",
        "t = torch.from_numpy(n)\n",
        "print('numpy n = ', n)\n",
        "print('torch t =', t)\n",
        "# still pointing to the same memory!  Modification to the tensor will be felected in the array and vice versa.\n",
        "\n",
        "n += 1\n",
        "print(\"\\nafter add 1, numpy = \", n)\n",
        "print('torch = ', t)\n"
      ]
    },
    {
      "cell_type": "code",
      "execution_count": null,
      "metadata": {
        "id": "6iwkmUwLs6uD",
        "outputId": "ba49735c-e3d3-4fb8-eca1-cb6b5aba5bfb"
      },
      "outputs": [
        {
          "name": "stdout",
          "output_type": "stream",
          "text": [
            "numpy n =  [1. 1. 1. 1. 1.]\n",
            "torch t = tensor([1., 1., 1., 1., 1.], dtype=torch.float64)\n",
            "\n",
            "after add 1, numpy =  [2. 2. 2. 2. 2.]\n",
            "torch =  tensor([1., 1., 1., 1., 1.], dtype=torch.float64)\n"
          ]
        }
      ],
      "source": [
        "n = np.ones(5)\n",
        "t = torch.tensor(n)\n",
        "print('numpy n = ', n)\n",
        "print('torch t =', t)\n",
        "# not now!\n",
        "\n",
        "n += 1\n",
        "print(\"\\nafter add 1, numpy = \", n)\n",
        "print('torch = ', t)\n"
      ]
    },
    {
      "cell_type": "markdown",
      "metadata": {
        "id": "19pt6bIRtC2a"
      },
      "source": [
        "**pytorch to numpy**"
      ]
    },
    {
      "cell_type": "code",
      "execution_count": null,
      "metadata": {
        "id": "Uop5Z4jltFrF",
        "outputId": "ba9f82c7-a0dc-411e-a354-7ac379d126d6"
      },
      "outputs": [
        {
          "name": "stdout",
          "output_type": "stream",
          "text": [
            "numpy n =  [1. 1. 1. 1. 1.]\n",
            "torch t = tensor([1., 1., 1., 1., 1.])\n",
            "\n",
            "after add 1, numpy =  [2. 2. 2. 2. 2.]\n",
            "torch =  tensor([2., 2., 2., 2., 2.])\n"
          ]
        }
      ],
      "source": [
        "t = torch.ones(5)\n",
        "n = t.numpy()\n",
        "print('numpy n = ', n)\n",
        "print('torch t =', t)\n",
        "# still pointing to the same memory!\n",
        "\n",
        "t += 1\n",
        "print(\"\\nafter add 1, numpy = \", n)\n",
        "print('torch = ', t)\n",
        "\n"
      ]
    },
    {
      "cell_type": "code",
      "execution_count": null,
      "metadata": {
        "id": "zdYEFr-Uk9XO",
        "outputId": "61f41a66-cf7e-4cda-ce8f-746a4a995d26"
      },
      "outputs": [
        {
          "name": "stdout",
          "output_type": "stream",
          "text": [
            "numpy n =  [1. 1. 1. 1. 1.]\n",
            "torch t = tensor([1., 1., 1., 1., 1.])\n",
            "\n",
            "after add 1, numpy =  [1. 1. 1. 1. 1.]\n",
            "torch =  tensor([2., 2., 2., 2., 2.])\n"
          ]
        }
      ],
      "source": [
        "t = torch.ones(5)\n",
        "n = np.array(t)\n",
        "print('numpy n = ', n)\n",
        "print('torch t =', t)\n",
        "#not now \n",
        "\n",
        "\n",
        "t += 1\n",
        "print(\"\\nafter add 1, numpy = \", n)\n",
        "print('torch = ', t)\n",
        "\n",
        "\n"
      ]
    },
    {
      "cell_type": "markdown",
      "metadata": {
        "id": "4FrytcDMuEtd"
      },
      "source": [
        "## Basic Operations 基础操作"
      ]
    },
    {
      "cell_type": "markdown",
      "metadata": {
        "id": "LWFN616Qk9XP"
      },
      "source": [
        "### Summation"
      ]
    },
    {
      "cell_type": "code",
      "execution_count": null,
      "metadata": {
        "id": "8zSiit9euGZ9",
        "outputId": "6a186cae-2879-4eb5-b1c6-2d142fd77542"
      },
      "outputs": [
        {
          "name": "stdout",
          "output_type": "stream",
          "text": [
            "x = tensor([[[0.5645, 0.9095],\n",
            "         [0.2123, 0.6154],\n",
            "         [0.2475, 0.3778]],\n",
            "\n",
            "        [[0.1750, 0.3605],\n",
            "         [0.9338, 0.9977],\n",
            "         [0.6543, 0.9046]]]), y = tensor([[[1., 1.],\n",
            "         [1., 1.],\n",
            "         [1., 1.]],\n",
            "\n",
            "        [[1., 1.],\n",
            "         [1., 1.],\n",
            "         [1., 1.]]])\n"
          ]
        }
      ],
      "source": [
        "x = torch.rand(2, 3, 2)\n",
        "y = torch.ones(2, 3, 2)\n",
        "print(f'x = {x}, y = {y}')\n"
      ]
    },
    {
      "cell_type": "code",
      "execution_count": null,
      "metadata": {
        "id": "kq1rGYROuIpX",
        "outputId": "2ddbceb5-2aa6-44ea-9126-b0f1ffdb2990"
      },
      "outputs": [
        {
          "data": {
            "text/plain": [
              "True"
            ]
          },
          "execution_count": 90,
          "metadata": {},
          "output_type": "execute_result"
        }
      ],
      "source": [
        "z = torch.add(x, y)\n",
        "# in-place; no extra memory allocation\n",
        "x.add_(y) \n",
        "# equal up to predefined tolerance\n",
        "x.allclose(z)"
      ]
    },
    {
      "cell_type": "code",
      "execution_count": null,
      "metadata": {
        "id": "0jlgX_HWk9XP",
        "outputId": "56528d4e-e05c-4311-d299-feaba0d114a7"
      },
      "outputs": [
        {
          "name": "stdout",
          "output_type": "stream",
          "text": [
            "in_place operation, x =  tensor([[[1.2109, 1.0734],\n",
            "         [1.5252, 1.3283],\n",
            "         [1.2934, 1.4882]],\n",
            "\n",
            "        [[1.5402, 1.2720],\n",
            "         [1.3231, 1.4621],\n",
            "         [1.8985, 1.0239]]])\n"
          ]
        }
      ],
      "source": [
        "print('in_place operation, x = ', x)"
      ]
    },
    {
      "cell_type": "markdown",
      "metadata": {
        "id": "3n2E3ga7k9XP"
      },
      "source": [
        "### Multiplication"
      ]
    },
    {
      "cell_type": "code",
      "execution_count": null,
      "metadata": {
        "id": "hiE3ntgik9XQ",
        "outputId": "d273a467-347b-4955-a8af-4119a062a056"
      },
      "outputs": [
        {
          "data": {
            "text/plain": [
              "(tensor([0., 1., 2., 3.]), tensor([1., 1., 1., 1.]), tensor(6.))"
            ]
          },
          "execution_count": 106,
          "metadata": {},
          "output_type": "execute_result"
        }
      ],
      "source": [
        "x = torch.arange(4, dtype=torch.float32)\n",
        "y = torch.ones(4, dtype = torch.float32)\n",
        "x, y, torch.dot(x, y)"
      ]
    },
    {
      "cell_type": "code",
      "execution_count": null,
      "metadata": {
        "id": "VRURfYL2k9XQ",
        "outputId": "d940adc3-ef3d-4b2f-a8cb-ab3ad518eb9c"
      },
      "outputs": [
        {
          "data": {
            "text/plain": [
              "(tensor([ 14.,  38.,  62.,  86., 110.]),\n",
              " tensor([[  14.,   38.,   62.,   86.,  110.],\n",
              "         [  38.,  126.,  214.,  302.,  390.],\n",
              "         [  62.,  214.,  366.,  518.,  670.],\n",
              "         [  86.,  302.,  518.,  734.,  950.],\n",
              "         [ 110.,  390.,  670.,  950., 1230.]]))"
            ]
          },
          "execution_count": 111,
          "metadata": {},
          "output_type": "execute_result"
        }
      ],
      "source": [
        "A = torch.arange(20, dtype=torch.float32).reshape(5, 4)\n",
        "torch.mv(A, x), torch.mm(A,A.T)"
      ]
    },
    {
      "cell_type": "markdown",
      "metadata": {
        "id": "R99yFF-_k9XQ"
      },
      "source": [
        "### Tensor Contractions\n",
        "Generalization of vector-vector, matrix-vector, matrix-matrix product etc.\n",
        "\n",
        "\n",
        "\\begin{align}\n",
        "\\mathcal{X} &\\in \\mathbb{R}^{a_1\\ \\times\\ \\cdots\\ \\times\\ a_{n}\\  \\times\\ b_1\\ \\times\\ b_2}\\\\\n",
        "\\mathcal{Y} &\\in \\mathbb{R}^{a_n\\ \\times\\ \\cdots\\ \\times\\ a_{n}\\ \\times\\ b_2\\ \\times\\ b_3}\\\\\n",
        "\\mathcal{Z} &= \\mathcal{X} @ \\mathcal{Y} \\in \\mathbb{R}^{a_1\\ \\times\\ \\cdots\\ \\times\\ a_{n}\\  \\times\\ b_1 \\ \\times\\ b_3}\\\\\n",
        "\\mathcal{Z}_{a_1,\\cdots,a_n, b_1, b_3} &= \\sum_{b_2} \\mathcal{X}_{a_1,\\cdots,a_n, b_1, b_2} \\mathcal{Y}_{a_1,\\cdots,a_n, b_2,b_3}\n",
        "\\end{align}\n",
        "\n",
        "`@` sums over variable n and n-1 unless Y has dimension 1 \n"
      ]
    },
    {
      "cell_type": "code",
      "execution_count": null,
      "metadata": {
        "id": "zRfHDsxak9XQ",
        "outputId": "1a0049b5-72a8-458d-8a2a-90af2caa501c"
      },
      "outputs": [
        {
          "data": {
            "text/plain": [
              "torch.Size([2, 3, 4, 2])"
            ]
          },
          "execution_count": 112,
          "metadata": {},
          "output_type": "execute_result"
        }
      ],
      "source": [
        "x = torch.rand(2, 3, 4, 5)\n",
        "y = torch.rand(2, 3, 5, 2)\n",
        "(x @ y).shape"
      ]
    },
    {
      "cell_type": "markdown",
      "metadata": {
        "id": "3nCwptF4k9XQ"
      },
      "source": [
        "For high-order tensor @ is a batch-matrix multiplication (see einsum for actual tensor contraction)."
      ]
    },
    {
      "cell_type": "markdown",
      "metadata": {
        "id": "S0nJu-P-k9XR"
      },
      "source": [
        "### Sum, Mean, Max, Min"
      ]
    },
    {
      "cell_type": "code",
      "execution_count": null,
      "metadata": {
        "id": "MiKeFKAfk9XR",
        "outputId": "186ea6fe-e476-48c3-bb92-a159e8873460"
      },
      "outputs": [
        {
          "name": "stdout",
          "output_type": "stream",
          "text": [
            "x = tensor([[[1.2109, 1.0734],\n",
            "         [1.5252, 1.3283],\n",
            "         [1.2934, 1.4882]],\n",
            "\n",
            "        [[1.5402, 1.2720],\n",
            "         [1.3231, 1.4621],\n",
            "         [1.8985, 1.0239]]]), shape = torch.Size([2, 3, 2])\n",
            "sum of all entries =  tensor(16.4393)\n",
            "summing along first dimension = tensor([[2.7512, 2.3455],\n",
            "        [2.8482, 2.7904],\n",
            "        [3.1919, 2.5121]]), shape = torch.Size([3, 2])\n",
            "\n",
            "Mean of all entries =  tensor(1.3699)\n",
            "Mean of the last dimension = tensor([[1.1422, 1.4267, 1.3908],\n",
            "        [1.4061, 1.3926, 1.4612]]) , shape = torch.Size([2, 3])\n",
            "\n",
            "Std =  tensor([0.2495, 0.1934])\n",
            "\n",
            "Keep dimension = torch.Size([2, 1, 2])\n"
          ]
        }
      ],
      "source": [
        "print(f'x = {x}, shape = {x.shape}')\n",
        "print('sum of all entries = ', x.sum())\n",
        "print(f'summing along first dimension = {x.sum(axis=0)}, shape = {x.sum(axis=0).shape}')\n",
        "\n",
        "print('\\nMean of all entries = ', x.mean())\n",
        "print(f'Mean of the last dimension = {x.mean(axis = -1)} , shape = {x.mean(axis=-1).shape}')\n",
        "\n",
        "print('\\nStd = ', x.std(axis=[0,1]))\n",
        "\n",
        "print(f'\\nKeep dimension = {x.mean(axis=1, keepdim=True).shape}')"
      ]
    },
    {
      "cell_type": "code",
      "execution_count": null,
      "metadata": {
        "id": "Zg7yY91ok9XR",
        "outputId": "d06037c9-f989-4074-8df1-676463815b60"
      },
      "outputs": [
        {
          "name": "stdout",
          "output_type": "stream",
          "text": [
            "x shape =  tensor([[0.3993, 0.2871, 0.1887],\n",
            "        [0.7921, 0.6867, 0.8199]])\n",
            "max =  tensor(0.8199)\n",
            "max along dim 0, value = tensor([0.7921, 0.6867, 0.8199]), indices = tensor([1, 1, 1])\n"
          ]
        }
      ],
      "source": [
        "x = torch.rand(2,3)\n",
        "print('x shape = ', x)\n",
        "print('max = ', x.max())\n",
        "print(f'max along dim 0, value = {x.max(axis=0)[0]}, indices = {x.max(axis=0)[1]}')"
      ]
    },
    {
      "cell_type": "markdown",
      "metadata": {
        "id": "gZ7l8jgYlHwN"
      },
      "source": [
        "### Transpose"
      ]
    },
    {
      "cell_type": "code",
      "execution_count": null,
      "metadata": {
        "id": "EfnvHuxYlJpl",
        "outputId": "e1d9d832-d44f-4de1-d8c8-6827d4bf032c"
      },
      "outputs": [
        {
          "data": {
            "text/plain": [
              "tensor([[0, 3],\n",
              "        [1, 4],\n",
              "        [2, 5]])"
            ]
          },
          "execution_count": 113,
          "metadata": {},
          "output_type": "execute_result"
        }
      ],
      "source": [
        "x = torch.arange(0,6).view(2,3)\n",
        "x.t()"
      ]
    },
    {
      "cell_type": "markdown",
      "metadata": {
        "id": "m_wtJRFfllUU"
      },
      "source": [
        "Swap specific dimensions with `transpose`"
      ]
    },
    {
      "cell_type": "code",
      "execution_count": null,
      "metadata": {
        "id": "4t6EgngolNHF",
        "outputId": "ec69d780-c7da-4235-e70e-1cb7cab7a445"
      },
      "outputs": [
        {
          "data": {
            "text/plain": [
              "True"
            ]
          },
          "execution_count": 114,
          "metadata": {},
          "output_type": "execute_result"
        }
      ],
      "source": [
        "x.t().allclose(x.transpose(0, 1))"
      ]
    },
    {
      "cell_type": "code",
      "execution_count": null,
      "metadata": {
        "id": "vn8VhXsxlPxa",
        "outputId": "db5e2055-9b53-40d6-c8f6-87c59003a0df"
      },
      "outputs": [
        {
          "data": {
            "text/plain": [
              "True"
            ]
          },
          "execution_count": 115,
          "metadata": {},
          "output_type": "execute_result"
        }
      ],
      "source": [
        "x.transpose(0, 1).allclose(x.transpose(1, 0))"
      ]
    },
    {
      "cell_type": "code",
      "execution_count": null,
      "metadata": {
        "id": "zYteM79VlSAN",
        "outputId": "f78a87e0-3791-4555-c40c-1b2921cd6242"
      },
      "outputs": [
        {
          "name": "stdout",
          "output_type": "stream",
          "text": [
            "x shape = torch.Size([2, 3, 2]), transpose second and third dimension = torch.Size([2, 2, 3])\n"
          ]
        }
      ],
      "source": [
        "x = torch.arange(0,12).view(2,3,2)\n",
        "print(f'x shape = {x.shape}, transpose second and third dimension = {x.transpose(1, 2).shape}')"
      ]
    },
    {
      "cell_type": "markdown",
      "metadata": {
        "id": "Nix5AFj1n_Km"
      },
      "source": [
        "### View and Reshape"
      ]
    },
    {
      "cell_type": "markdown",
      "metadata": {
        "id": "oOxs5fZ6k9XS"
      },
      "source": [
        "According to the [document](https://pytorch.org/docs/master/torch.html#torch.reshape), torch.reshape will\n",
        "\n",
        "`\n",
        "        returns a tensor with the same data and number of elements as input. When possible, the returned tensor will be a view of input. Otherwise, it will be a copy.\n",
        "`\n",
        "\n",
        "It means that .reshape may return a copy or a view of the original tensor and you may not know beforehand.\n",
        "\n",
        "*view* and *reshape* share API, view does not allocate new memory, reshap also works with non-contiguous tensors but can copy memory. \n",
        "\n",
        "**If possible, use *view***"
      ]
    },
    {
      "cell_type": "code",
      "execution_count": null,
      "metadata": {
        "id": "XRDiXi1roAb1",
        "outputId": "3692160a-9cd3-4bf7-9e82-5f46c78f0575"
      },
      "outputs": [
        {
          "data": {
            "text/plain": [
              "tensor([[[ 0,  1],\n",
              "         [ 2,  3],\n",
              "         [ 4,  5]],\n",
              "\n",
              "        [[ 6,  7],\n",
              "         [ 8,  9],\n",
              "         [10, 11]]])"
            ]
          },
          "execution_count": 126,
          "metadata": {},
          "output_type": "execute_result"
        }
      ],
      "source": [
        "# vector [0, 1, 2, ..., 11]\n",
        "x = torch.arange(0, 12)\n",
        "# viewed as a [2 x 3 x 2] tensor\n",
        "x.view(2, 3, 2)"
      ]
    },
    {
      "cell_type": "code",
      "execution_count": null,
      "metadata": {
        "id": "HXEDKwdgoD9y",
        "outputId": "1095d9ce-35b4-437e-d7f9-154bb731c1ff"
      },
      "outputs": [
        {
          "data": {
            "text/plain": [
              "tensor([[ 0,  1,  2,  3],\n",
              "        [ 4,  5,  6,  7],\n",
              "        [ 8,  9, 10, 11]])"
            ]
          },
          "execution_count": 127,
          "metadata": {},
          "output_type": "execute_result"
        }
      ],
      "source": [
        "# viewed as a [3 x 4] matrix\n",
        "x.view(3, 4)"
      ]
    },
    {
      "cell_type": "code",
      "execution_count": null,
      "metadata": {
        "id": "_D6axP_XoHdS",
        "outputId": "7913ebcb-4c36-4af3-939a-57b8fd701263"
      },
      "outputs": [
        {
          "data": {
            "text/plain": [
              "tensor([[[ 0,  1],\n",
              "         [ 2,  3]],\n",
              "\n",
              "        [[ 4,  5],\n",
              "         [ 6,  7]],\n",
              "\n",
              "        [[ 8,  9],\n",
              "         [10, 11]]])"
            ]
          },
          "execution_count": 128,
          "metadata": {},
          "output_type": "execute_result"
        }
      ],
      "source": [
        "# viewed as a [3 x 2 x 2] tensor via \n",
        "# inferring one unspecified dimension!\n",
        "x.view(-1, 2, 2)"
      ]
    },
    {
      "cell_type": "markdown",
      "metadata": {
        "id": "LAZ3uoZgoM_F"
      },
      "source": [
        "### Squeeze & Unsqueeze"
      ]
    },
    {
      "cell_type": "code",
      "execution_count": null,
      "metadata": {
        "id": "3bWyIK7LoJRE",
        "outputId": "6a0fe5cd-6fca-42a5-86ed-f247262ef7a0"
      },
      "outputs": [
        {
          "name": "stdout",
          "output_type": "stream",
          "text": [
            "Squeeze shape =  torch.Size([3, 2])\n",
            "Unsqueeze shape =  torch.Size([1, 3, 1, 2, 1])\n"
          ]
        }
      ],
      "source": [
        "x = torch.rand(3, 1, 2, 1)\n",
        "print('Squeeze shape = ', x.squeeze().shape)\n",
        "print('Unsqueeze shape = ', x.unsqueeze(dim=0).shape)"
      ]
    },
    {
      "cell_type": "markdown",
      "metadata": {
        "id": "6fVbX62zohYV"
      },
      "source": [
        "### Expand & Repeat\n"
      ]
    },
    {
      "cell_type": "markdown",
      "metadata": {
        "id": "-mzDYFVak9XT"
      },
      "source": [
        "*expand* and *repeat* share API, repeat allocates new memory while expand does not.\n",
        "\n",
        "If possible, use expand bu watch out for side effects!"
      ]
    },
    {
      "cell_type": "code",
      "execution_count": null,
      "metadata": {
        "id": "kJIjq5kSoXpC",
        "outputId": "3ed66bb7-e1dd-48e5-8a05-8e614d3bea59"
      },
      "outputs": [
        {
          "data": {
            "text/plain": [
              "tensor([[0],\n",
              "        [1],\n",
              "        [2]])"
            ]
          },
          "execution_count": 139,
          "metadata": {},
          "output_type": "execute_result"
        }
      ],
      "source": [
        "x = torch.arange(0, 3)\n",
        "x = x.unsqueeze(1)\n",
        "x"
      ]
    },
    {
      "cell_type": "code",
      "execution_count": null,
      "metadata": {
        "id": "MkPT2TNTpf6r",
        "outputId": "6c96df59-64be-4655-ec9f-53b83bf7ca8e"
      },
      "outputs": [
        {
          "data": {
            "text/plain": [
              "tensor([[0, 0, 0, 0],\n",
              "        [1, 1, 1, 1],\n",
              "        [2, 2, 2, 2]])"
            ]
          },
          "execution_count": 140,
          "metadata": {},
          "output_type": "execute_result"
        }
      ],
      "source": [
        "x = x.expand(-1, 4)\n",
        "x"
      ]
    },
    {
      "cell_type": "code",
      "execution_count": null,
      "metadata": {
        "id": "SM_amsAdoWCv",
        "outputId": "66ba086d-bb93-4945-83a0-de9a5fada421"
      },
      "outputs": [
        {
          "data": {
            "text/plain": [
              "tensor([[7, 7, 7, 7],\n",
              "        [1, 1, 1, 1],\n",
              "        [2, 2, 2, 2]])"
            ]
          },
          "execution_count": 141,
          "metadata": {},
          "output_type": "execute_result"
        }
      ],
      "source": [
        "x[0,0] = 7\n",
        "x"
      ]
    },
    {
      "cell_type": "code",
      "execution_count": null,
      "metadata": {
        "id": "hxOSqUPcqLEB",
        "outputId": "01be97d9-c629-4f31-b91f-be8668a4fd63"
      },
      "outputs": [
        {
          "data": {
            "text/plain": [
              "tensor([[0, 0, 0, 0],\n",
              "        [1, 1, 1, 1],\n",
              "        [2, 2, 2, 2]])"
            ]
          },
          "execution_count": 142,
          "metadata": {},
          "output_type": "execute_result"
        }
      ],
      "source": [
        "x = torch.arange(0, 3)\n",
        "x = x.unsqueeze(1)\n",
        "x = x.repeat(1, 4)\n",
        "x"
      ]
    },
    {
      "cell_type": "code",
      "execution_count": null,
      "metadata": {
        "id": "cRJy2AdtqJtm",
        "outputId": "8df3ca0f-f68d-4912-d9ef-d99c31cb2124"
      },
      "outputs": [
        {
          "data": {
            "text/plain": [
              "tensor([[7, 0, 0, 0],\n",
              "        [1, 1, 1, 1],\n",
              "        [2, 2, 2, 2]])"
            ]
          },
          "execution_count": 143,
          "metadata": {},
          "output_type": "execute_result"
        }
      ],
      "source": [
        "x[0,0] = 7\n",
        "x"
      ]
    },
    {
      "cell_type": "markdown",
      "metadata": {
        "id": "zHZtoGfVk9XU"
      },
      "source": [
        "### Indexing"
      ]
    },
    {
      "cell_type": "markdown",
      "metadata": {
        "id": "Vlkb_eygx4i4"
      },
      "source": [
        "\n",
        "\n",
        "\n",
        "![imgae](./index.png)\n"
      ]
    },
    {
      "cell_type": "code",
      "execution_count": null,
      "metadata": {
        "id": "1cOOUXyKx6K4",
        "outputId": "35f23ed0-6927-41cd-b1b7-5ba8d8f59000"
      },
      "outputs": [
        {
          "data": {
            "text/plain": [
              "tensor([[[ 0,  1,  2,  3],\n",
              "         [ 4,  5,  6,  7],\n",
              "         [ 8,  9, 10, 11]],\n",
              "\n",
              "        [[12, 13, 14, 15],\n",
              "         [16, 17, 18, 19],\n",
              "         [20, 21, 22, 23]]])"
            ]
          },
          "execution_count": 146,
          "metadata": {},
          "output_type": "execute_result"
        }
      ],
      "source": [
        "x = torch.arange(0, 24).view(2, 3, 4)\n",
        "x"
      ]
    },
    {
      "cell_type": "code",
      "execution_count": null,
      "metadata": {
        "id": "5Lb-cIeIx8LG",
        "outputId": "9f920e94-5b89-4c5a-9fd2-637a207e4753"
      },
      "outputs": [
        {
          "data": {
            "text/plain": [
              "tensor([[12, 13, 14, 15],\n",
              "        [16, 17, 18, 19],\n",
              "        [20, 21, 22, 23]])"
            ]
          },
          "execution_count": 147,
          "metadata": {},
          "output_type": "execute_result"
        }
      ],
      "source": [
        "x[1]"
      ]
    },
    {
      "cell_type": "code",
      "execution_count": null,
      "metadata": {
        "id": "WwVV1pGVyB7f",
        "outputId": "1351d32c-00f1-49c6-a1a7-a26bb0e5397d"
      },
      "outputs": [
        {
          "data": {
            "text/plain": [
              "tensor([12, 13, 14, 15])"
            ]
          },
          "execution_count": 148,
          "metadata": {},
          "output_type": "execute_result"
        }
      ],
      "source": [
        "x[1,0]"
      ]
    },
    {
      "cell_type": "code",
      "execution_count": null,
      "metadata": {
        "id": "g5PwzW9FyJrz"
      },
      "outputs": [],
      "source": [
        "x[1,0,3]"
      ]
    },
    {
      "cell_type": "code",
      "execution_count": null,
      "metadata": {
        "id": "x-x3vIy5yjTk",
        "outputId": "7f477de5-92b5-41cc-b994-377a203ba468"
      },
      "outputs": [
        {
          "data": {
            "text/plain": [
              "tensor([[[ 0,  1,  2,  3],\n",
              "         [ 4,  5,  6,  7],\n",
              "         [ 8,  9, 10, 11]],\n",
              "\n",
              "        [[12, 13, 14, 15],\n",
              "         [16, 17, 18, 19],\n",
              "         [20, 21, 22, 23]]])"
            ]
          },
          "execution_count": 149,
          "metadata": {},
          "output_type": "execute_result"
        }
      ],
      "source": [
        "x"
      ]
    },
    {
      "cell_type": "code",
      "execution_count": null,
      "metadata": {
        "id": "l4Q4otAUySlY",
        "outputId": "2e4a2ec3-5bb6-4455-ea75-89269111df49"
      },
      "outputs": [
        {
          "data": {
            "text/plain": [
              "tensor([[17, 18],\n",
              "        [21, 22]])"
            ]
          },
          "execution_count": 150,
          "metadata": {},
          "output_type": "execute_result"
        }
      ],
      "source": [
        "x[1, 1:, 1:-1]"
      ]
    },
    {
      "cell_type": "code",
      "execution_count": null,
      "metadata": {
        "id": "77TTYJRvyVzq",
        "outputId": "050f0abd-cdb4-4bfc-e1d2-76a22df628fc"
      },
      "outputs": [
        {
          "data": {
            "text/plain": [
              "tensor([[[ 0,  1,  2,  3],\n",
              "         [ 0,  1,  2,  3],\n",
              "         [ 8,  9, 10, 11],\n",
              "         [ 4,  5,  6,  7]],\n",
              "\n",
              "        [[12, 13, 14, 15],\n",
              "         [12, 13, 14, 15],\n",
              "         [20, 21, 22, 23],\n",
              "         [16, 17, 18, 19]]])"
            ]
          },
          "execution_count": 151,
          "metadata": {},
          "output_type": "execute_result"
        }
      ],
      "source": [
        "indices = torch.tensor([0, 0, 2, 1])\n",
        "x[:, indices]"
      ]
    },
    {
      "cell_type": "markdown",
      "metadata": {
        "id": "Adf0h-9Trr92"
      },
      "source": [
        "### Cat and Stack"
      ]
    },
    {
      "cell_type": "code",
      "execution_count": null,
      "metadata": {
        "id": "mHqhOyj0ql_S",
        "outputId": "544c31c3-5c2a-4a0b-e217-e013ada10e4f"
      },
      "outputs": [
        {
          "data": {
            "text/plain": [
              "tensor([[0, 1],\n",
              "        [2, 3],\n",
              "        [4, 5],\n",
              "        [0, 1],\n",
              "        [2, 3],\n",
              "        [4, 5]])"
            ]
          },
          "execution_count": 9,
          "metadata": {},
          "output_type": "execute_result"
        }
      ],
      "source": [
        "x = torch.arange(0, 6).view(3, 2)\n",
        "torch.cat([x, x], dim=0)"
      ]
    },
    {
      "cell_type": "code",
      "execution_count": null,
      "metadata": {
        "id": "aKiGL4gbrx5B",
        "outputId": "10252c77-cd0e-4d29-cb46-b5f7fc2eb6bc"
      },
      "outputs": [
        {
          "data": {
            "text/plain": [
              "torch.Size([3, 2, 3])"
            ]
          },
          "execution_count": 11,
          "metadata": {},
          "output_type": "execute_result"
        }
      ],
      "source": [
        "x = torch.arange(0, 6).view(2, 3)\n",
        "y = torch.arange(6, 12).view(2, 3)\n",
        "torch.stack([x, y, x]).shape"
      ]
    },
    {
      "cell_type": "markdown",
      "metadata": {
        "id": "6c7w5-J2k9XV"
      },
      "source": [
        "### Gather\n"
      ]
    },
    {
      "cell_type": "markdown",
      "metadata": {
        "id": "XntAWNq0sPaY"
      },
      "source": [
        "\n",
        "(from StackOverflow)\n",
        "![alt text](https://drive.google.com/uc?export=view&id=1c-GmsmE3qMwr5oFiI8EqfLvW4GzPwbhx)"
      ]
    },
    {
      "cell_type": "code",
      "execution_count": null,
      "metadata": {
        "id": "cJ1gH97DsRX6",
        "outputId": "72c5cfa6-4cb9-4a2f-b4ae-39f32b49a2a3"
      },
      "outputs": [
        {
          "data": {
            "text/plain": [
              "tensor([[1, 1],\n",
              "        [4, 3]])"
            ]
          },
          "execution_count": 12,
          "metadata": {},
          "output_type": "execute_result"
        }
      ],
      "source": [
        "x = torch.tensor([[1, 2],\n",
        "                  [3, 4]])\n",
        "index = torch.tensor([[0, 0],\n",
        "                      [1, 0]])\n",
        "torch.gather(x, 1, index)"
      ]
    },
    {
      "cell_type": "code",
      "execution_count": null,
      "metadata": {
        "id": "S5fp_pC2sbnV",
        "outputId": "db422a79-8057-49b6-f240-6360adc5400e"
      },
      "outputs": [
        {
          "data": {
            "text/plain": [
              "tensor([[1, 2],\n",
              "        [3, 2]])"
            ]
          },
          "execution_count": 13,
          "metadata": {},
          "output_type": "execute_result"
        }
      ],
      "source": [
        "x = torch.tensor([[1, 2],\n",
        "                  [3, 4]])\n",
        "index = torch.tensor([[0, 0],\n",
        "                      [1, 0]])\n",
        "torch.gather(x, 0, index)"
      ]
    },
    {
      "cell_type": "code",
      "execution_count": null,
      "metadata": {
        "id": "oU7gHyZesgTF",
        "outputId": "7fd203fa-a2de-452b-cb17-e03acb87f388"
      },
      "outputs": [
        {
          "data": {
            "text/plain": [
              "tensor([[[0, 3],\n",
              "         [2, 1]],\n",
              "\n",
              "        [[4, 5],\n",
              "         [6, 5]]])"
            ]
          },
          "execution_count": 14,
          "metadata": {},
          "output_type": "execute_result"
        }
      ],
      "source": [
        "x = torch.arange(0, 8).view(2, 2, 2)\n",
        "index = torch.tensor([\n",
        "  [[0, 1], [1, 0]], \n",
        "  [[0, 0], [1, 0]]\n",
        "])\n",
        "torch.gather(x, 1, index)"
      ]
    },
    {
      "cell_type": "markdown",
      "metadata": {
        "id": "JIMVX6w4wQNy"
      },
      "source": [
        "### Broadcasting\n",
        "Often you can make two tensors compatible for operations via views/unsqueeze and expand functions. In such cases, broadcasting does this for you, automatically.  "
      ]
    },
    {
      "cell_type": "code",
      "execution_count": null,
      "metadata": {
        "colab": {
          "base_uri": "https://localhost:8080/",
          "height": 52
        },
        "id": "HbadBxNvwSfd",
        "outputId": "7300b973-2ef9-41c8-f35d-df72b054f37d"
      },
      "outputs": [
        {
          "data": {
            "text/plain": [
              "tensor([[0, 1, 2],\n",
              "        [3, 4, 5]])"
            ]
          },
          "execution_count": 3,
          "metadata": {
            "tags": []
          },
          "output_type": "execute_result"
        }
      ],
      "source": [
        "x = torch.arange(0, 6).view(2, 3)\n",
        "x"
      ]
    },
    {
      "cell_type": "code",
      "execution_count": null,
      "metadata": {
        "colab": {
          "base_uri": "https://localhost:8080/",
          "height": 35
        },
        "id": "MAosHG09whk4",
        "outputId": "90118a4b-cb58-4413-b14e-97779e23354d"
      },
      "outputs": [
        {
          "data": {
            "text/plain": [
              "tensor([2, 3])"
            ]
          },
          "execution_count": 4,
          "metadata": {
            "tags": []
          },
          "output_type": "execute_result"
        }
      ],
      "source": [
        "y = torch.tensor([2,3])\n",
        "y"
      ]
    },
    {
      "cell_type": "code",
      "execution_count": null,
      "metadata": {
        "colab": {
          "base_uri": "https://localhost:8080/",
          "height": 52
        },
        "id": "hM-EGSbQ2g7y",
        "outputId": "7c931d1b-b331-4596-83c5-0234452b100f"
      },
      "outputs": [
        {
          "data": {
            "text/plain": [
              "tensor([[2],\n",
              "        [3]])"
            ]
          },
          "execution_count": 5,
          "metadata": {
            "tags": []
          },
          "output_type": "execute_result"
        }
      ],
      "source": [
        "y = y.view(2,1)\n",
        "y"
      ]
    },
    {
      "cell_type": "code",
      "execution_count": null,
      "metadata": {
        "colab": {
          "base_uri": "https://localhost:8080/",
          "height": 52
        },
        "id": "Mo6F38S220XA",
        "outputId": "6cabbfd7-69ab-4188-a709-5b9b55960c9e"
      },
      "outputs": [
        {
          "data": {
            "text/plain": [
              "tensor([[2, 2, 2],\n",
              "        [3, 3, 3]])"
            ]
          },
          "execution_count": 6,
          "metadata": {
            "tags": []
          },
          "output_type": "execute_result"
        }
      ],
      "source": [
        "y = y.repeat([1,3])\n",
        "y"
      ]
    },
    {
      "cell_type": "code",
      "execution_count": null,
      "metadata": {
        "colab": {
          "base_uri": "https://localhost:8080/",
          "height": 52
        },
        "id": "Xg84KgZ52lJ_",
        "outputId": "4cb3334a-1fec-4e7b-f1ae-8fad37854b73"
      },
      "outputs": [
        {
          "data": {
            "text/plain": [
              "tensor([[ 0,  2,  4],\n",
              "        [ 9, 12, 15]])"
            ]
          },
          "execution_count": 7,
          "metadata": {
            "tags": []
          },
          "output_type": "execute_result"
        }
      ],
      "source": [
        "x * y"
      ]
    },
    {
      "cell_type": "markdown",
      "metadata": {
        "id": "piCqiy4y2RuA"
      },
      "source": [
        "\n",
        "Two tensors are “broadcastable” if both tensors have no empty dimensions and when iterating over the dimension sizes, starting at the trailing dimension, the dimension sizes must either be equal, one of them is 1, or one of them does not exist."
      ]
    },
    {
      "cell_type": "code",
      "execution_count": null,
      "metadata": {
        "colab": {
          "base_uri": "https://localhost:8080/",
          "height": 69
        },
        "id": "bXECX2VdwT1T",
        "outputId": "2a38a12c-d277-4ee4-9944-8c9e135277c3"
      },
      "outputs": [
        {
          "name": "stdout",
          "output_type": "stream",
          "text": [
            "torch.Size([3, 2]) torch.Size([1, 2])\n",
            "tensor([[0, 1],\n",
            "        [2, 3],\n",
            "        [4, 5]]) tensor([[2, 3]])\n"
          ]
        },
        {
          "data": {
            "text/plain": [
              "tensor([[ 0,  3],\n",
              "        [ 4,  9],\n",
              "        [ 8, 15]])"
            ]
          },
          "execution_count": 19,
          "metadata": {},
          "output_type": "execute_result"
        }
      ],
      "source": [
        "x = torch.arange(0, 6).view(3, 2)\n",
        "y = torch.tensor([[2,3]])\n",
        "print(x.shape, y.shape)\n",
        "# x.shape, y.shape\n",
        "print(x, y)\n",
        "x * y\n"
      ]
    },
    {
      "cell_type": "code",
      "execution_count": null,
      "metadata": {
        "id": "RSXZ3c9HrzU5"
      },
      "outputs": [],
      "source": [
        "x = torch.empty(3, 5, 7, 9)\n",
        "y = torch.empty(3, 5, 7, 9)\n",
        "# same shapes are always broadcastable"
      ]
    },
    {
      "cell_type": "code",
      "execution_count": null,
      "metadata": {
        "id": "_ezbFBCSwytB",
        "outputId": "148c3e88-6384-4583-c8fd-232b27ed5939"
      },
      "outputs": [
        {
          "data": {
            "text/plain": [
              "torch.Size([0])"
            ]
          },
          "execution_count": 22,
          "metadata": {},
          "output_type": "execute_result"
        }
      ],
      "source": [
        "x = torch.empty((0,))\n",
        "y = torch.empty(2, 2)\n",
        "# x and y are not broadcastable\n",
        "# x does not have at least one dimension\n",
        "x.shape\n"
      ]
    },
    {
      "cell_type": "code",
      "execution_count": null,
      "metadata": {
        "id": "KLaG5eN5w12a"
      },
      "outputs": [],
      "source": [
        "x = torch.empty(5, 3, 4, 1)\n",
        "y = torch.empty(   3, 1, 1)\n",
        "# x and y are broadcastable\n",
        "# 1st trailing dimension: both have size 1\n",
        "# 2nd trailing dimension: y has size 1\n",
        "# 3rd trailing dimension: x size == y size\n",
        "# 4th trailing dimension: y dim doesn't exist\n"
      ]
    },
    {
      "cell_type": "code",
      "execution_count": null,
      "metadata": {
        "id": "Y1krnMkLw4I9"
      },
      "outputs": [],
      "source": [
        "x = torch.empty(5, 2, 4, 1)\n",
        "y = torch.empty(   3, 1, 1)\n",
        "# x and y are not broadcastable\n",
        "# in the 3rd trailing dimension 2 != 3\n"
      ]
    },
    {
      "cell_type": "code",
      "execution_count": null,
      "metadata": {
        "id": "6VWrqOr-w5g8",
        "outputId": "4084d6de-cac3-430c-ac26-15b195c59586"
      },
      "outputs": [
        {
          "ename": "RuntimeError",
          "evalue": "The size of tensor a (4) must match the size of tensor b (3) at non-singleton dimension 2",
          "output_type": "error",
          "traceback": [
            "\u001b[0;31m---------------------------------------------------------------------------\u001b[0m",
            "\u001b[0;31mRuntimeError\u001b[0m                              Traceback (most recent call last)",
            "\u001b[1;32m/Users/yansong/Desktop/summercourse22/SummerCourse2022/course1/docs/pytorch_intro.ipynb Cell 95\u001b[0m in \u001b[0;36m<cell line: 3>\u001b[0;34m()\u001b[0m\n\u001b[1;32m      <a href='vscode-notebook-cell:/Users/yansong/Desktop/summercourse22/SummerCourse2022/course1/docs/pytorch_intro.ipynb#Y164sZmlsZQ%3D%3D?line=0'>1</a>\u001b[0m x \u001b[39m=\u001b[39m torch\u001b[39m.\u001b[39mempty(\u001b[39m5\u001b[39m, \u001b[39m3\u001b[39m, \u001b[39m4\u001b[39m, \u001b[39m1\u001b[39m)\n\u001b[1;32m      <a href='vscode-notebook-cell:/Users/yansong/Desktop/summercourse22/SummerCourse2022/course1/docs/pytorch_intro.ipynb#Y164sZmlsZQ%3D%3D?line=1'>2</a>\u001b[0m y \u001b[39m=\u001b[39m torch\u001b[39m.\u001b[39mempty(\u001b[39m3\u001b[39m,\u001b[39m1\u001b[39m)\n\u001b[0;32m----> <a href='vscode-notebook-cell:/Users/yansong/Desktop/summercourse22/SummerCourse2022/course1/docs/pytorch_intro.ipynb#Y164sZmlsZQ%3D%3D?line=2'>3</a>\u001b[0m (x\u001b[39m*\u001b[39;49my)\u001b[39m.\u001b[39mshape\n",
            "\u001b[0;31mRuntimeError\u001b[0m: The size of tensor a (4) must match the size of tensor b (3) at non-singleton dimension 2"
          ]
        }
      ],
      "source": [
        "x = torch.empty(5, 3, 4, 1)\n",
        "y = torch.empty(3,1)\n",
        "(x*y).shape"
      ]
    },
    {
      "cell_type": "markdown",
      "metadata": {
        "id": "PG_u09dUrI-6"
      },
      "source": [
        "### Sparse Tensors"
      ]
    },
    {
      "cell_type": "code",
      "execution_count": null,
      "metadata": {
        "id": "Na9Ui5qSrKy5",
        "outputId": "f546537f-e31b-48f2-8c95-46e3a4cd8cf1"
      },
      "outputs": [
        {
          "data": {
            "text/plain": [
              "tensor([[0.0000],\n",
              "        [0.0000],\n",
              "        [1.9139],\n",
              "        [0.0000],\n",
              "        [3.0439],\n",
              "        [0.0000],\n",
              "        [0.0000],\n",
              "        [1.5192],\n",
              "        [0.0000],\n",
              "        [0.0000]])"
            ]
          },
          "execution_count": 152,
          "metadata": {},
          "output_type": "execute_result"
        }
      ],
      "source": [
        "indices = torch.LongTensor([[2, 4, 7], \n",
        "                            [3, 2, 1]])\n",
        "values = torch.FloatTensor([3, 4, 5])\n",
        "# sparse\n",
        "x = torch.sparse.FloatTensor(\n",
        "  indices, values, torch.Size([10, 100000000]))\n",
        "# dense\n",
        "m = torch.rand(100000000, 1)\n",
        "torch.sparse.mm(x, m)"
      ]
    },
    {
      "cell_type": "code",
      "execution_count": null,
      "metadata": {
        "id": "t18ahCjorNZL"
      },
      "outputs": [],
      "source": [
        "indices = torch.LongTensor([[2, 4, 7], \n",
        "                            [3, 2, 1]])\n",
        "values = torch.FloatTensor([3, 4, 5])\n",
        "# sparse\n",
        "sparse_x = torch.sparse.FloatTensor(\n",
        "  indices, values, torch.Size([10, 100000000]))\n",
        "# dense\n",
        "dense_x = torch.zeros(10, 100000000)\n",
        "dense_x[2, 3] = 3\n",
        "dense_x[4, 2] = 4\n",
        "dense_x[7, 1] = 5\n",
        "# dense\n",
        "m = torch.rand(100000000, 1)"
      ]
    },
    {
      "cell_type": "code",
      "execution_count": null,
      "metadata": {
        "id": "i9ey7m0xrQuc",
        "outputId": "28b17513-b962-4650-c1aa-29552f934eaf"
      },
      "outputs": [
        {
          "name": "stdout",
          "output_type": "stream",
          "text": [
            "501 ms ± 243 ms per loop (mean ± std. dev. of 7 runs, 1 loop each)\n"
          ]
        }
      ],
      "source": [
        "%%timeit\n",
        "torch.mm(dense_x, m)"
      ]
    },
    {
      "cell_type": "code",
      "execution_count": null,
      "metadata": {
        "id": "CNvlp_nDrSyx",
        "outputId": "20111624-572c-4f59-db31-864fec40d6e9"
      },
      "outputs": [
        {
          "name": "stdout",
          "output_type": "stream",
          "text": [
            "5.23 µs ± 193 ns per loop (mean ± std. dev. of 7 runs, 100,000 loops each)\n"
          ]
        }
      ],
      "source": [
        "%%timeit\n",
        "torch.sparse.mm(sparse_x, m)"
      ]
    },
    {
      "cell_type": "markdown",
      "metadata": {
        "id": "k2KO2nYd7QcW"
      },
      "source": [
        "## Variables  变量"
      ]
    },
    {
      "cell_type": "code",
      "execution_count": null,
      "metadata": {
        "id": "Bero_sGP7SCM",
        "colab": {
          "base_uri": "https://localhost:8080/"
        },
        "outputId": "e6af1a10-8a27-4bcc-b428-5711e16ec2ef"
      },
      "outputs": [
        {
          "output_type": "stream",
          "name": "stdout",
          "text": [
            "results =  tensor(2.6880, grad_fn=<DotBackward0>)\n",
            "data =  tensor(2.6880)\n",
            "gradient function =  <DotBackward0 object at 0x7feb6dcf9050>\n"
          ]
        }
      ],
      "source": [
        "# variable\n",
        "x = torch.tensor([-1.5, 1.2], requires_grad=True)\n",
        "# constant\n",
        "y = torch.tensor([1.0, -1.3])\n",
        "# variable\n",
        "z = torch.tensor([-2.0, 0.2], requires_grad=True)\n",
        "# output tensor value, but also computation graph\n",
        "ret = x * y @ z\n",
        "\n",
        "print('results = ', ret)\n",
        "print('data = ', ret.data)\n",
        "print('gradient function = ', ret.grad_fn)\n"
      ]
    },
    {
      "cell_type": "code",
      "execution_count": null,
      "metadata": {
        "id": "px1-MQXa7nnJ",
        "colab": {
          "base_uri": "https://localhost:8080/"
        },
        "outputId": "167baddb-edbf-413f-ca27-5e2bf740d92c"
      },
      "outputs": [
        {
          "output_type": "stream",
          "name": "stdout",
          "text": [
            "Looking in indexes: https://pypi.org/simple, https://us-python.pkg.dev/colab-wheels/public/simple/\n",
            "Collecting torchviz\n",
            "  Downloading torchviz-0.0.2.tar.gz (4.9 kB)\n",
            "Requirement already satisfied: torch in /usr/local/lib/python3.7/dist-packages (from torchviz) (1.12.1+cu113)\n",
            "Requirement already satisfied: graphviz in /usr/local/lib/python3.7/dist-packages (from torchviz) (0.10.1)\n",
            "Requirement already satisfied: typing-extensions in /usr/local/lib/python3.7/dist-packages (from torch->torchviz) (4.1.1)\n",
            "Building wheels for collected packages: torchviz\n",
            "  Building wheel for torchviz (setup.py) ... \u001b[?25l\u001b[?25hdone\n",
            "  Created wheel for torchviz: filename=torchviz-0.0.2-py3-none-any.whl size=4150 sha256=efce3235a93f9d29837be1aeebe4b36468cc3588c6a2d875fd6aeece98fefbdb\n",
            "  Stored in directory: /root/.cache/pip/wheels/04/38/f5/dc4f85c3909051823df49901e72015d2d750bd26b086480ec2\n",
            "Successfully built torchviz\n",
            "Installing collected packages: torchviz\n",
            "Successfully installed torchviz-0.0.2\n"
          ]
        }
      ],
      "source": [
        "!pip install torchviz"
      ]
    },
    {
      "cell_type": "code",
      "execution_count": null,
      "metadata": {
        "id": "B1wu66DL7WRK",
        "colab": {
          "base_uri": "https://localhost:8080/",
          "height": 396
        },
        "outputId": "03b6c633-87fc-4a4c-f2fa-d20b4896c317"
      },
      "outputs": [
        {
          "output_type": "execute_result",
          "data": {
            "text/plain": [
              "<graphviz.dot.Digraph at 0x7feb803f3b10>"
            ],
            "image/svg+xml": "<?xml version=\"1.0\" encoding=\"UTF-8\" standalone=\"no\"?>\n<!DOCTYPE svg PUBLIC \"-//W3C//DTD SVG 1.1//EN\"\n \"http://www.w3.org/Graphics/SVG/1.1/DTD/svg11.dtd\">\n<!-- Generated by graphviz version 2.40.1 (20161225.0304)\n -->\n<!-- Title: %3 Pages: 1 -->\n<svg width=\"222pt\" height=\"281pt\"\n viewBox=\"0.00 0.00 222.00 281.00\" xmlns=\"http://www.w3.org/2000/svg\" xmlns:xlink=\"http://www.w3.org/1999/xlink\">\n<g id=\"graph0\" class=\"graph\" transform=\"scale(1 1) rotate(0) translate(4 277)\">\n<title>%3</title>\n<polygon fill=\"#ffffff\" stroke=\"transparent\" points=\"-4,4 -4,-277 218,-277 218,4 -4,4\"/>\n<!-- 140649445652816 -->\n<g id=\"node1\" class=\"node\">\n<title>140649445652816</title>\n<polygon fill=\"#caff70\" stroke=\"#000000\" points=\"133.5,-31 79.5,-31 79.5,0 133.5,0 133.5,-31\"/>\n<text text-anchor=\"middle\" x=\"106.5\" y=\"-7\" font-family=\"monospace\" font-size=\"10.00\" fill=\"#000000\"> ()</text>\n</g>\n<!-- 140647198544272 -->\n<g id=\"node2\" class=\"node\">\n<title>140647198544272</title>\n<polygon fill=\"#d3d3d3\" stroke=\"#000000\" points=\"151,-86 62,-86 62,-67 151,-67 151,-86\"/>\n<text text-anchor=\"middle\" x=\"106.5\" y=\"-74\" font-family=\"monospace\" font-size=\"10.00\" fill=\"#000000\">DotBackward0</text>\n</g>\n<!-- 140647198544272&#45;&gt;140649445652816 -->\n<g id=\"edge6\" class=\"edge\">\n<title>140647198544272&#45;&gt;140649445652816</title>\n<path fill=\"none\" stroke=\"#000000\" d=\"M106.5,-66.9688C106.5,-60.1289 106.5,-50.5621 106.5,-41.5298\"/>\n<polygon fill=\"#000000\" stroke=\"#000000\" points=\"110.0001,-41.3678 106.5,-31.3678 103.0001,-41.3678 110.0001,-41.3678\"/>\n</g>\n<!-- 140647198544080 -->\n<g id=\"node3\" class=\"node\">\n<title>140647198544080</title>\n<polygon fill=\"#d3d3d3\" stroke=\"#000000\" points=\"95,-141 6,-141 6,-122 95,-122 95,-141\"/>\n<text text-anchor=\"middle\" x=\"50.5\" y=\"-129\" font-family=\"monospace\" font-size=\"10.00\" fill=\"#000000\">MulBackward0</text>\n</g>\n<!-- 140647198544080&#45;&gt;140647198544272 -->\n<g id=\"edge1\" class=\"edge\">\n<title>140647198544080&#45;&gt;140647198544272</title>\n<path fill=\"none\" stroke=\"#000000\" d=\"M60.2545,-121.9197C68.1865,-114.1293 79.5788,-102.9405 89.0712,-93.6176\"/>\n<polygon fill=\"#000000\" stroke=\"#000000\" points=\"91.7982,-95.845 96.4802,-86.3408 86.8932,-90.8509 91.7982,-95.845\"/>\n</g>\n<!-- 140647198544016 -->\n<g id=\"node4\" class=\"node\">\n<title>140647198544016</title>\n<polygon fill=\"#d3d3d3\" stroke=\"#000000\" points=\"101,-201.5 0,-201.5 0,-182.5 101,-182.5 101,-201.5\"/>\n<text text-anchor=\"middle\" x=\"50.5\" y=\"-189.5\" font-family=\"monospace\" font-size=\"10.00\" fill=\"#000000\">AccumulateGrad</text>\n</g>\n<!-- 140647198544016&#45;&gt;140647198544080 -->\n<g id=\"edge2\" class=\"edge\">\n<title>140647198544016&#45;&gt;140647198544080</title>\n<path fill=\"none\" stroke=\"#000000\" d=\"M50.5,-182.2796C50.5,-174.0376 50.5,-161.9457 50.5,-151.629\"/>\n<polygon fill=\"#000000\" stroke=\"#000000\" points=\"54.0001,-151.3972 50.5,-141.3972 47.0001,-151.3973 54.0001,-151.3972\"/>\n</g>\n<!-- 140647198944816 -->\n<g id=\"node5\" class=\"node\">\n<title>140647198944816</title>\n<polygon fill=\"#add8e6\" stroke=\"#000000\" points=\"77.5,-273 23.5,-273 23.5,-243 77.5,-243 77.5,-273\"/>\n<text text-anchor=\"middle\" x=\"50.5\" y=\"-261\" font-family=\"monospace\" font-size=\"10.00\" fill=\"#000000\">x</text>\n<text text-anchor=\"middle\" x=\"50.5\" y=\"-250\" font-family=\"monospace\" font-size=\"10.00\" fill=\"#000000\"> (2)</text>\n</g>\n<!-- 140647198944816&#45;&gt;140647198544016 -->\n<g id=\"edge3\" class=\"edge\">\n<title>140647198944816&#45;&gt;140647198544016</title>\n<path fill=\"none\" stroke=\"#000000\" d=\"M50.5,-242.6924C50.5,-233.5067 50.5,-221.7245 50.5,-211.8312\"/>\n<polygon fill=\"#000000\" stroke=\"#000000\" points=\"54.0001,-211.703 50.5,-201.7031 47.0001,-211.7031 54.0001,-211.703\"/>\n</g>\n<!-- 140647198544400 -->\n<g id=\"node6\" class=\"node\">\n<title>140647198544400</title>\n<polygon fill=\"#d3d3d3\" stroke=\"#000000\" points=\"214,-141 113,-141 113,-122 214,-122 214,-141\"/>\n<text text-anchor=\"middle\" x=\"163.5\" y=\"-129\" font-family=\"monospace\" font-size=\"10.00\" fill=\"#000000\">AccumulateGrad</text>\n</g>\n<!-- 140647198544400&#45;&gt;140647198544272 -->\n<g id=\"edge4\" class=\"edge\">\n<title>140647198544400&#45;&gt;140647198544272</title>\n<path fill=\"none\" stroke=\"#000000\" d=\"M153.5714,-121.9197C145.4169,-114.0514 133.6697,-102.7164 123.9508,-93.3385\"/>\n<polygon fill=\"#000000\" stroke=\"#000000\" points=\"126.3252,-90.7659 116.6987,-86.3408 121.4646,-95.8032 126.3252,-90.7659\"/>\n</g>\n<!-- 140647198944528 -->\n<g id=\"node7\" class=\"node\">\n<title>140647198944528</title>\n<polygon fill=\"#add8e6\" stroke=\"#000000\" points=\"190.5,-207 136.5,-207 136.5,-177 190.5,-177 190.5,-207\"/>\n<text text-anchor=\"middle\" x=\"163.5\" y=\"-195\" font-family=\"monospace\" font-size=\"10.00\" fill=\"#000000\">z</text>\n<text text-anchor=\"middle\" x=\"163.5\" y=\"-184\" font-family=\"monospace\" font-size=\"10.00\" fill=\"#000000\"> (2)</text>\n</g>\n<!-- 140647198944528&#45;&gt;140647198544400 -->\n<g id=\"edge5\" class=\"edge\">\n<title>140647198944528&#45;&gt;140647198544400</title>\n<path fill=\"none\" stroke=\"#000000\" d=\"M163.5,-176.7333C163.5,-169.0322 163.5,-159.5977 163.5,-151.3414\"/>\n<polygon fill=\"#000000\" stroke=\"#000000\" points=\"167.0001,-151.0864 163.5,-141.0864 160.0001,-151.0864 167.0001,-151.0864\"/>\n</g>\n</g>\n</svg>\n"
          },
          "metadata": {},
          "execution_count": 11
        }
      ],
      "source": [
        "from torchviz import make_dot\n",
        "make_dot(x * y @ z, {\"x\":x, \"z\":z})\n"
      ]
    },
    {
      "cell_type": "markdown",
      "metadata": {
        "id": "AedHLRayy4Vl"
      },
      "source": [
        "## Gradients  梯度"
      ]
    },
    {
      "cell_type": "code",
      "execution_count": null,
      "metadata": {
        "id": "ug2X0b1f7ihK",
        "colab": {
          "base_uri": "https://localhost:8080/"
        },
        "outputId": "42aba9b6-0c4c-4aec-cf3b-6a051010a0e1"
      },
      "outputs": [
        {
          "output_type": "execute_result",
          "data": {
            "text/plain": [
              "tensor([-2.0000, -0.2600])"
            ]
          },
          "metadata": {},
          "execution_count": 12
        }
      ],
      "source": [
        "x = torch.tensor([-1.5, 1.2], requires_grad=True)\n",
        "y = torch.tensor([1.0, -1.3])\n",
        "z = torch.tensor([-2.0, 0.2], requires_grad=True)\n",
        "r = x * y @ z\n",
        "r.backward()\n",
        "x.grad"
      ]
    },
    {
      "cell_type": "code",
      "execution_count": null,
      "metadata": {
        "colab": {
          "base_uri": "https://localhost:8080/"
        },
        "id": "4uS6xog1k9XZ",
        "outputId": "abfd18ec-3a63-4dd4-848f-4a34a35ac8a8"
      },
      "outputs": [
        {
          "output_type": "execute_result",
          "data": {
            "text/plain": [
              "tensor([0.0006], grad_fn=<AddBackward0>)"
            ]
          },
          "metadata": {},
          "execution_count": 13
        }
      ],
      "source": [
        "\n",
        "a = torch.rand(1, requires_grad=True)\n",
        "b = torch.rand(1, requires_grad=True)\n",
        "c = torch.rand(1, requires_grad=True)\n",
        "d = torch.rand(1, requires_grad=True)\n",
        "e = a*b\n",
        "f = c*e + d*e\n",
        "f"
      ]
    },
    {
      "cell_type": "code",
      "execution_count": null,
      "metadata": {
        "colab": {
          "base_uri": "https://localhost:8080/",
          "height": 469
        },
        "id": "_VLxw9lJk9Xa",
        "outputId": "24bf5d72-ac97-4c20-dfd7-db1ec243d2a8"
      },
      "outputs": [
        {
          "output_type": "execute_result",
          "data": {
            "text/plain": [
              "<graphviz.dot.Digraph at 0x7feafa504590>"
            ],
            "image/svg+xml": "<?xml version=\"1.0\" encoding=\"UTF-8\" standalone=\"no\"?>\n<!DOCTYPE svg PUBLIC \"-//W3C//DTD SVG 1.1//EN\"\n \"http://www.w3.org/Graphics/SVG/1.1/DTD/svg11.dtd\">\n<!-- Generated by graphviz version 2.40.1 (20161225.0304)\n -->\n<!-- Title: %3 Pages: 1 -->\n<svg width=\"386pt\" height=\"336pt\"\n viewBox=\"0.00 0.00 385.50 336.00\" xmlns=\"http://www.w3.org/2000/svg\" xmlns:xlink=\"http://www.w3.org/1999/xlink\">\n<g id=\"graph0\" class=\"graph\" transform=\"scale(1 1) rotate(0) translate(4 332)\">\n<title>%3</title>\n<polygon fill=\"#ffffff\" stroke=\"transparent\" points=\"-4,4 -4,-332 381.5,-332 381.5,4 -4,4\"/>\n<!-- 140647198648080 -->\n<g id=\"node1\" class=\"node\">\n<title>140647198648080</title>\n<polygon fill=\"#caff70\" stroke=\"#000000\" points=\"229,-31 175,-31 175,0 229,0 229,-31\"/>\n<text text-anchor=\"middle\" x=\"202\" y=\"-7\" font-family=\"monospace\" font-size=\"10.00\" fill=\"#000000\"> (1)</text>\n</g>\n<!-- 140647198638992 -->\n<g id=\"node2\" class=\"node\">\n<title>140647198638992</title>\n<polygon fill=\"#d3d3d3\" stroke=\"#000000\" points=\"246.5,-86 157.5,-86 157.5,-67 246.5,-67 246.5,-86\"/>\n<text text-anchor=\"middle\" x=\"202\" y=\"-74\" font-family=\"monospace\" font-size=\"10.00\" fill=\"#000000\">AddBackward0</text>\n</g>\n<!-- 140647198638992&#45;&gt;140647198648080 -->\n<g id=\"edge13\" class=\"edge\">\n<title>140647198638992&#45;&gt;140647198648080</title>\n<path fill=\"none\" stroke=\"#000000\" d=\"M202,-66.9688C202,-60.1289 202,-50.5621 202,-41.5298\"/>\n<polygon fill=\"#000000\" stroke=\"#000000\" points=\"205.5001,-41.3678 202,-31.3678 198.5001,-41.3678 205.5001,-41.3678\"/>\n</g>\n<!-- 140649144769808 -->\n<g id=\"node3\" class=\"node\">\n<title>140649144769808</title>\n<polygon fill=\"#d3d3d3\" stroke=\"#000000\" points=\"193.5,-141 104.5,-141 104.5,-122 193.5,-122 193.5,-141\"/>\n<text text-anchor=\"middle\" x=\"149\" y=\"-129\" font-family=\"monospace\" font-size=\"10.00\" fill=\"#000000\">MulBackward0</text>\n</g>\n<!-- 140649144769808&#45;&gt;140647198638992 -->\n<g id=\"edge1\" class=\"edge\">\n<title>140649144769808&#45;&gt;140647198638992</title>\n<path fill=\"none\" stroke=\"#000000\" d=\"M158.2319,-121.9197C165.7391,-114.1293 176.521,-102.9405 185.5049,-93.6176\"/>\n<polygon fill=\"#000000\" stroke=\"#000000\" points=\"188.0983,-95.9703 192.517,-86.3408 183.0578,-91.113 188.0983,-95.9703\"/>\n</g>\n<!-- 140647198638416 -->\n<g id=\"node4\" class=\"node\">\n<title>140647198638416</title>\n<polygon fill=\"#d3d3d3\" stroke=\"#000000\" points=\"119.5,-196 18.5,-196 18.5,-177 119.5,-177 119.5,-196\"/>\n<text text-anchor=\"middle\" x=\"69\" y=\"-184\" font-family=\"monospace\" font-size=\"10.00\" fill=\"#000000\">AccumulateGrad</text>\n</g>\n<!-- 140647198638416&#45;&gt;140649144769808 -->\n<g id=\"edge2\" class=\"edge\">\n<title>140647198638416&#45;&gt;140649144769808</title>\n<path fill=\"none\" stroke=\"#000000\" d=\"M82.9349,-176.9197C94.9065,-168.6893 112.3953,-156.6657 126.3721,-147.0567\"/>\n<polygon fill=\"#000000\" stroke=\"#000000\" points=\"128.6988,-149.7045 134.9563,-141.155 124.733,-143.9362 128.6988,-149.7045\"/>\n</g>\n<!-- 140647198646928 -->\n<g id=\"node5\" class=\"node\">\n<title>140647198646928</title>\n<polygon fill=\"#add8e6\" stroke=\"#000000\" points=\"54,-262 0,-262 0,-232 54,-232 54,-262\"/>\n<text text-anchor=\"middle\" x=\"27\" y=\"-250\" font-family=\"monospace\" font-size=\"10.00\" fill=\"#000000\">c</text>\n<text text-anchor=\"middle\" x=\"27\" y=\"-239\" font-family=\"monospace\" font-size=\"10.00\" fill=\"#000000\"> (1)</text>\n</g>\n<!-- 140647198646928&#45;&gt;140647198638416 -->\n<g id=\"edge3\" class=\"edge\">\n<title>140647198646928&#45;&gt;140647198638416</title>\n<path fill=\"none\" stroke=\"#000000\" d=\"M37.5984,-231.7333C43.3699,-223.4196 50.5437,-213.0858 56.5771,-204.3949\"/>\n<polygon fill=\"#000000\" stroke=\"#000000\" points=\"59.5174,-206.297 62.345,-196.0864 53.7671,-202.3051 59.5174,-206.297\"/>\n</g>\n<!-- 140647198547856 -->\n<g id=\"node6\" class=\"node\">\n<title>140647198547856</title>\n<polygon fill=\"#d3d3d3\" stroke=\"#000000\" points=\"247.5,-196 158.5,-196 158.5,-177 247.5,-177 247.5,-196\"/>\n<text text-anchor=\"middle\" x=\"203\" y=\"-184\" font-family=\"monospace\" font-size=\"10.00\" fill=\"#000000\">MulBackward0</text>\n</g>\n<!-- 140647198547856&#45;&gt;140649144769808 -->\n<g id=\"edge4\" class=\"edge\">\n<title>140647198547856&#45;&gt;140649144769808</title>\n<path fill=\"none\" stroke=\"#000000\" d=\"M193.5939,-176.9197C185.9451,-169.1293 174.9597,-157.9405 165.8064,-148.6176\"/>\n<polygon fill=\"#000000\" stroke=\"#000000\" points=\"168.1653,-146.0244 158.6619,-141.3408 163.1704,-150.9286 168.1653,-146.0244\"/>\n</g>\n<!-- 140647198642128 -->\n<g id=\"node11\" class=\"node\">\n<title>140647198642128</title>\n<polygon fill=\"#d3d3d3\" stroke=\"#000000\" points=\"300.5,-141 211.5,-141 211.5,-122 300.5,-122 300.5,-141\"/>\n<text text-anchor=\"middle\" x=\"256\" y=\"-129\" font-family=\"monospace\" font-size=\"10.00\" fill=\"#000000\">MulBackward0</text>\n</g>\n<!-- 140647198547856&#45;&gt;140647198642128 -->\n<g id=\"edge12\" class=\"edge\">\n<title>140647198547856&#45;&gt;140647198642128</title>\n<path fill=\"none\" stroke=\"#000000\" d=\"M212.2319,-176.9197C219.7391,-169.1293 230.521,-157.9405 239.5049,-148.6176\"/>\n<polygon fill=\"#000000\" stroke=\"#000000\" points=\"242.0983,-150.9703 246.517,-141.3408 237.0578,-146.113 242.0983,-150.9703\"/>\n</g>\n<!-- 140647198544720 -->\n<g id=\"node7\" class=\"node\">\n<title>140647198544720</title>\n<polygon fill=\"#d3d3d3\" stroke=\"#000000\" points=\"292.5,-256.5 191.5,-256.5 191.5,-237.5 292.5,-237.5 292.5,-256.5\"/>\n<text text-anchor=\"middle\" x=\"242\" y=\"-244.5\" font-family=\"monospace\" font-size=\"10.00\" fill=\"#000000\">AccumulateGrad</text>\n</g>\n<!-- 140647198544720&#45;&gt;140647198547856 -->\n<g id=\"edge5\" class=\"edge\">\n<title>140647198544720&#45;&gt;140647198547856</title>\n<path fill=\"none\" stroke=\"#000000\" d=\"M235.734,-237.2796C230.1383,-228.5992 221.7899,-215.6485 214.9248,-204.9987\"/>\n<polygon fill=\"#000000\" stroke=\"#000000\" points=\"217.7399,-202.9059 209.38,-196.3972 211.8564,-206.6986 217.7399,-202.9059\"/>\n</g>\n<!-- 140647198646448 -->\n<g id=\"node8\" class=\"node\">\n<title>140647198646448</title>\n<polygon fill=\"#add8e6\" stroke=\"#000000\" points=\"269,-328 215,-328 215,-298 269,-298 269,-328\"/>\n<text text-anchor=\"middle\" x=\"242\" y=\"-316\" font-family=\"monospace\" font-size=\"10.00\" fill=\"#000000\">a</text>\n<text text-anchor=\"middle\" x=\"242\" y=\"-305\" font-family=\"monospace\" font-size=\"10.00\" fill=\"#000000\"> (1)</text>\n</g>\n<!-- 140647198646448&#45;&gt;140647198544720 -->\n<g id=\"edge6\" class=\"edge\">\n<title>140647198646448&#45;&gt;140647198544720</title>\n<path fill=\"none\" stroke=\"#000000\" d=\"M242,-297.6924C242,-288.5067 242,-276.7245 242,-266.8312\"/>\n<polygon fill=\"#000000\" stroke=\"#000000\" points=\"245.5001,-266.703 242,-256.7031 238.5001,-266.7031 245.5001,-266.703\"/>\n</g>\n<!-- 140647198547408 -->\n<g id=\"node9\" class=\"node\">\n<title>140647198547408</title>\n<polygon fill=\"#d3d3d3\" stroke=\"#000000\" points=\"173.5,-256.5 72.5,-256.5 72.5,-237.5 173.5,-237.5 173.5,-256.5\"/>\n<text text-anchor=\"middle\" x=\"123\" y=\"-244.5\" font-family=\"monospace\" font-size=\"10.00\" fill=\"#000000\">AccumulateGrad</text>\n</g>\n<!-- 140647198547408&#45;&gt;140647198547856 -->\n<g id=\"edge7\" class=\"edge\">\n<title>140647198547408&#45;&gt;140647198547856</title>\n<path fill=\"none\" stroke=\"#000000\" d=\"M135.8534,-237.2796C148.333,-227.8419 167.4875,-213.3563 182.1494,-202.2683\"/>\n<polygon fill=\"#000000\" stroke=\"#000000\" points=\"184.3136,-205.0198 190.1785,-196.1962 180.0913,-199.4365 184.3136,-205.0198\"/>\n</g>\n<!-- 140647198646352 -->\n<g id=\"node10\" class=\"node\">\n<title>140647198646352</title>\n<polygon fill=\"#add8e6\" stroke=\"#000000\" points=\"150,-328 96,-328 96,-298 150,-298 150,-328\"/>\n<text text-anchor=\"middle\" x=\"123\" y=\"-316\" font-family=\"monospace\" font-size=\"10.00\" fill=\"#000000\">b</text>\n<text text-anchor=\"middle\" x=\"123\" y=\"-305\" font-family=\"monospace\" font-size=\"10.00\" fill=\"#000000\"> (1)</text>\n</g>\n<!-- 140647198646352&#45;&gt;140647198547408 -->\n<g id=\"edge8\" class=\"edge\">\n<title>140647198646352&#45;&gt;140647198547408</title>\n<path fill=\"none\" stroke=\"#000000\" d=\"M123,-297.6924C123,-288.5067 123,-276.7245 123,-266.8312\"/>\n<polygon fill=\"#000000\" stroke=\"#000000\" points=\"126.5001,-266.703 123,-256.7031 119.5001,-266.7031 126.5001,-266.703\"/>\n</g>\n<!-- 140647198642128&#45;&gt;140647198638992 -->\n<g id=\"edge9\" class=\"edge\">\n<title>140647198642128&#45;&gt;140647198638992</title>\n<path fill=\"none\" stroke=\"#000000\" d=\"M246.5939,-121.9197C238.9451,-114.1293 227.9597,-102.9405 218.8064,-93.6176\"/>\n<polygon fill=\"#000000\" stroke=\"#000000\" points=\"221.1653,-91.0244 211.6619,-86.3408 216.1704,-95.9286 221.1653,-91.0244\"/>\n</g>\n<!-- 140647198544784 -->\n<g id=\"node12\" class=\"node\">\n<title>140647198544784</title>\n<polygon fill=\"#d3d3d3\" stroke=\"#000000\" points=\"377.5,-196 276.5,-196 276.5,-177 377.5,-177 377.5,-196\"/>\n<text text-anchor=\"middle\" x=\"327\" y=\"-184\" font-family=\"monospace\" font-size=\"10.00\" fill=\"#000000\">AccumulateGrad</text>\n</g>\n<!-- 140647198544784&#45;&gt;140647198642128 -->\n<g id=\"edge10\" class=\"edge\">\n<title>140647198544784&#45;&gt;140647198642128</title>\n<path fill=\"none\" stroke=\"#000000\" d=\"M314.6327,-176.9197C304.1737,-168.8177 288.9697,-157.0399 276.6651,-147.5082\"/>\n<polygon fill=\"#000000\" stroke=\"#000000\" points=\"278.7525,-144.6979 268.7036,-141.3408 274.4657,-150.2318 278.7525,-144.6979\"/>\n</g>\n<!-- 140647198647216 -->\n<g id=\"node13\" class=\"node\">\n<title>140647198647216</title>\n<polygon fill=\"#add8e6\" stroke=\"#000000\" points=\"365,-262 311,-262 311,-232 365,-232 365,-262\"/>\n<text text-anchor=\"middle\" x=\"338\" y=\"-250\" font-family=\"monospace\" font-size=\"10.00\" fill=\"#000000\">d</text>\n<text text-anchor=\"middle\" x=\"338\" y=\"-239\" font-family=\"monospace\" font-size=\"10.00\" fill=\"#000000\"> (1)</text>\n</g>\n<!-- 140647198647216&#45;&gt;140647198544784 -->\n<g id=\"edge11\" class=\"edge\">\n<title>140647198647216&#45;&gt;140647198544784</title>\n<path fill=\"none\" stroke=\"#000000\" d=\"M335.2242,-231.7333C333.8081,-223.9447 332.0696,-214.3831 330.5564,-206.0604\"/>\n<polygon fill=\"#000000\" stroke=\"#000000\" points=\"333.9755,-205.299 328.743,-196.0864 327.0884,-206.5512 333.9755,-205.299\"/>\n</g>\n</g>\n</svg>\n"
          },
          "metadata": {},
          "execution_count": 14
        }
      ],
      "source": [
        "make_dot(f, {\"a\":a, \"b\":b, \"c\": c, \"d\": d})"
      ]
    },
    {
      "cell_type": "markdown",
      "metadata": {
        "id": "FYmq77YFk9Xa"
      },
      "source": [
        "### Pytorch Autograd Function"
      ]
    },
    {
      "cell_type": "code",
      "execution_count": null,
      "metadata": {
        "id": "U74EiXsQk9Xa",
        "outputId": "2625e7d0-5560-4f4a-cd75-98514fe8d939"
      },
      "outputs": [
        {
          "data": {
            "text/plain": [
              "tensor([1.6487])"
            ]
          },
          "execution_count": 4,
          "metadata": {},
          "output_type": "execute_result"
        }
      ],
      "source": [
        "from os import stat\n",
        "from torch.autograd import Function\n",
        "\n",
        "class MyExp(Function):\n",
        "    @staticmethod\n",
        "    def forward(ctx, i):\n",
        "        result = i.exp()\n",
        "        ctx.save_for_backward(result)\n",
        "        return result\n",
        "    \n",
        "    @staticmethod\n",
        "    def backward(ctx, grad_output):\n",
        "        result, = ctx.saved_tensors\n",
        "        return grad_output * result\n",
        "\n",
        "x = torch.tensor([0.5], requires_grad=True)\n",
        "y = MyExp.apply(x)\n",
        "y.backward()\n",
        "x.grad\n",
        "\n"
      ]
    },
    {
      "cell_type": "code",
      "execution_count": null,
      "metadata": {
        "id": "xa21gc0Kk9Xa",
        "outputId": "16590993-3832-400a-fd45-e2f5cde90c35"
      },
      "outputs": [
        {
          "data": {
            "image/svg+xml": "<?xml version=\"1.0\" encoding=\"UTF-8\" standalone=\"no\"?>\n<!DOCTYPE svg PUBLIC \"-//W3C//DTD SVG 1.1//EN\"\n \"http://www.w3.org/Graphics/SVG/1.1/DTD/svg11.dtd\">\n<!-- Generated by graphviz version 5.0.0 (20220707.1540)\n -->\n<!-- Pages: 1 -->\n<svg width=\"182pt\" height=\"227pt\"\n viewBox=\"0.00 0.00 181.50 227.00\" xmlns=\"http://www.w3.org/2000/svg\" xmlns:xlink=\"http://www.w3.org/1999/xlink\">\n<g id=\"graph0\" class=\"graph\" transform=\"scale(1 1) rotate(0) translate(4 223)\">\n<polygon fill=\"white\" stroke=\"transparent\" points=\"-4,4 -4,-223 177.5,-223 177.5,4 -4,4\"/>\n<!-- 4687016160 -->\n<g id=\"node1\" class=\"node\">\n<title>4687016160</title>\n<polygon fill=\"#caff70\" stroke=\"black\" points=\"125.5,-31 71.5,-31 71.5,0 125.5,0 125.5,-31\"/>\n<text text-anchor=\"middle\" x=\"98.5\" y=\"-7\" font-family=\"monospace\" font-size=\"10.00\"> (1)</text>\n</g>\n<!-- 4685749824 -->\n<g id=\"node2\" class=\"node\">\n<title>4685749824</title>\n<polygon fill=\"lightgrey\" stroke=\"black\" points=\"146,-86 51,-86 51,-67 146,-67 146,-86\"/>\n<text text-anchor=\"middle\" x=\"98.5\" y=\"-74\" font-family=\"monospace\" font-size=\"10.00\">MyExpBackward</text>\n</g>\n<!-- 4685749824&#45;&gt;4687016160 -->\n<g id=\"edge4\" class=\"edge\">\n<title>4685749824&#45;&gt;4687016160</title>\n<path fill=\"none\" stroke=\"black\" d=\"M98.5,-66.79C98.5,-60.07 98.5,-50.4 98.5,-41.34\"/>\n<polygon fill=\"black\" stroke=\"black\" points=\"102,-41.19 98.5,-31.19 95,-41.19 102,-41.19\"/>\n</g>\n<!-- 4690095456 -->\n<g id=\"node3\" class=\"node\">\n<title>4690095456</title>\n<polygon fill=\"lightgrey\" stroke=\"black\" points=\"101,-147 0,-147 0,-128 101,-128 101,-147\"/>\n<text text-anchor=\"middle\" x=\"50.5\" y=\"-135\" font-family=\"monospace\" font-size=\"10.00\">AccumulateGrad</text>\n</g>\n<!-- 4690095456&#45;&gt;4685749824 -->\n<g id=\"edge1\" class=\"edge\">\n<title>4690095456&#45;&gt;4685749824</title>\n<path fill=\"none\" stroke=\"black\" d=\"M57.58,-127.79C64.74,-118.99 75.99,-105.17 84.89,-94.23\"/>\n<polygon fill=\"black\" stroke=\"black\" points=\"87.79,-96.21 91.39,-86.24 82.36,-91.79 87.79,-96.21\"/>\n</g>\n<!-- 4686508096 -->\n<g id=\"node4\" class=\"node\">\n<title>4686508096</title>\n<polygon fill=\"lightblue\" stroke=\"black\" points=\"77.5,-219 23.5,-219 23.5,-189 77.5,-189 77.5,-219\"/>\n<text text-anchor=\"middle\" x=\"50.5\" y=\"-207\" font-family=\"monospace\" font-size=\"10.00\">x</text>\n<text text-anchor=\"middle\" x=\"50.5\" y=\"-196\" font-family=\"monospace\" font-size=\"10.00\"> (1)</text>\n</g>\n<!-- 4686508096&#45;&gt;4690095456 -->\n<g id=\"edge2\" class=\"edge\">\n<title>4686508096&#45;&gt;4690095456</title>\n<path fill=\"none\" stroke=\"black\" d=\"M50.5,-188.69C50.5,-179.41 50.5,-167.23 50.5,-157.19\"/>\n<polygon fill=\"black\" stroke=\"black\" points=\"54,-157.04 50.5,-147.04 47,-157.04 54,-157.04\"/>\n</g>\n<!-- 4690102368 -->\n<g id=\"node5\" class=\"node\">\n<title>4690102368</title>\n<polygon fill=\"orange\" stroke=\"black\" points=\"173.5,-153 119.5,-153 119.5,-122 173.5,-122 173.5,-153\"/>\n<text text-anchor=\"middle\" x=\"146.5\" y=\"-129\" font-family=\"monospace\" font-size=\"10.00\"> (1)</text>\n</g>\n<!-- 4690102368&#45;&gt;4685749824 -->\n<g id=\"edge3\" class=\"edge\">\n<title>4690102368&#45;&gt;4685749824</title>\n<path fill=\"none\" stroke=\"black\" d=\"M134.63,-121.92C127.81,-113.52 119.2,-102.94 112.1,-94.21\"/>\n<polygon fill=\"black\" stroke=\"black\" points=\"114.64,-91.8 105.62,-86.25 109.21,-96.22 114.64,-91.8\"/>\n</g>\n</g>\n</svg>\n",
            "text/plain": [
              "<graphviz.graphs.Digraph at 0x1178d29d0>"
            ]
          },
          "execution_count": 6,
          "metadata": {},
          "output_type": "execute_result"
        }
      ],
      "source": [
        "from torchviz import make_dot\n",
        "x = torch.tensor([0.5], requires_grad=True)\n",
        "y = MyExp.apply(x)\n",
        "make_dot(y, {\"x\":x})"
      ]
    },
    {
      "cell_type": "markdown",
      "metadata": {
        "id": "O3-UgLy9zOo2"
      },
      "source": [
        "## Customised Linear Model Example   手写线性模型"
      ]
    },
    {
      "cell_type": "code",
      "execution_count": null,
      "metadata": {
        "id": "pf9znCskzOGh",
        "outputId": "98bee899-06c9-4f36-88d8-b5f78e9d3d3f"
      },
      "outputs": [
        {
          "name": "stdout",
          "output_type": "stream",
          "text": [
            "torch.Size([2, 5])\n",
            "torch.Size([2])\n"
          ]
        },
        {
          "data": {
            "text/plain": [
              "tensor([2.2841, 7.7850], grad_fn=<AddBackward0>)"
            ]
          },
          "execution_count": 5,
          "metadata": {},
          "output_type": "execute_result"
        }
      ],
      "source": [
        "class LinearModule(torch.nn.Module):\n",
        "    def __init__(self, x_dim, y_dim):\n",
        "        super(LinearModule, self).__init__()\n",
        "        self.W = nn.Parameter(torch.randn(y_dim, x_dim, requires_grad=True))\n",
        "        self.b = nn.Parameter(torch.randn(y_dim), requires_grad=True)\n",
        "    def forward(self, x):\n",
        "        return self.W @ x + self.b\n",
        "\n",
        "# Some random input and output data\n",
        "x = torch.randn(5)\n",
        "y = torch.randn(2)\n",
        "\n",
        "model = LinearModule(5, 2)\n",
        "\n",
        "for param in model.parameters():\n",
        "    print(param.size())\n",
        "\n",
        "pred = model(x)\n",
        "pred"
      ]
    },
    {
      "cell_type": "code",
      "execution_count": null,
      "metadata": {
        "id": "R5ExgK_zk9Xb",
        "outputId": "d6c7600f-13b4-4194-dd0d-5a5ee88871b4"
      },
      "outputs": [
        {
          "data": {
            "image/svg+xml": "<?xml version=\"1.0\" encoding=\"UTF-8\" standalone=\"no\"?>\n<!DOCTYPE svg PUBLIC \"-//W3C//DTD SVG 1.1//EN\"\n \"http://www.w3.org/Graphics/SVG/1.1/DTD/svg11.dtd\">\n<!-- Generated by graphviz version 5.0.0 (20220707.1540)\n -->\n<!-- Pages: 1 -->\n<svg width=\"219pt\" height=\"281pt\"\n viewBox=\"0.00 0.00 219.00 281.00\" xmlns=\"http://www.w3.org/2000/svg\" xmlns:xlink=\"http://www.w3.org/1999/xlink\">\n<g id=\"graph0\" class=\"graph\" transform=\"scale(1 1) rotate(0) translate(4 277)\">\n<polygon fill=\"white\" stroke=\"transparent\" points=\"-4,4 -4,-277 215,-277 215,4 -4,4\"/>\n<!-- 4448670800 -->\n<g id=\"node1\" class=\"node\">\n<title>4448670800</title>\n<polygon fill=\"#caff70\" stroke=\"black\" points=\"132.5,-31 78.5,-31 78.5,0 132.5,0 132.5,-31\"/>\n<text text-anchor=\"middle\" x=\"105.5\" y=\"-7\" font-family=\"monospace\" font-size=\"10.00\"> (2)</text>\n</g>\n<!-- 4621818320 -->\n<g id=\"node2\" class=\"node\">\n<title>4621818320</title>\n<polygon fill=\"lightgrey\" stroke=\"black\" points=\"150,-86 61,-86 61,-67 150,-67 150,-86\"/>\n<text text-anchor=\"middle\" x=\"105.5\" y=\"-74\" font-family=\"monospace\" font-size=\"10.00\">AddBackward0</text>\n</g>\n<!-- 4621818320&#45;&gt;4448670800 -->\n<g id=\"edge6\" class=\"edge\">\n<title>4621818320&#45;&gt;4448670800</title>\n<path fill=\"none\" stroke=\"black\" d=\"M105.5,-66.79C105.5,-60.07 105.5,-50.4 105.5,-41.34\"/>\n<polygon fill=\"black\" stroke=\"black\" points=\"109,-41.19 105.5,-31.19 102,-41.19 109,-41.19\"/>\n</g>\n<!-- 4621818512 -->\n<g id=\"node3\" class=\"node\">\n<title>4621818512</title>\n<polygon fill=\"lightgrey\" stroke=\"black\" points=\"92,-141 9,-141 9,-122 92,-122 92,-141\"/>\n<text text-anchor=\"middle\" x=\"50.5\" y=\"-129\" font-family=\"monospace\" font-size=\"10.00\">MvBackward0</text>\n</g>\n<!-- 4621818512&#45;&gt;4621818320 -->\n<g id=\"edge1\" class=\"edge\">\n<title>4621818512&#45;&gt;4621818320</title>\n<path fill=\"none\" stroke=\"black\" d=\"M59.58,-121.75C67.59,-114.03 79.46,-102.6 89.12,-93.28\"/>\n<polygon fill=\"black\" stroke=\"black\" points=\"91.81,-95.55 96.59,-86.09 86.96,-90.51 91.81,-95.55\"/>\n</g>\n<!-- 4621819424 -->\n<g id=\"node4\" class=\"node\">\n<title>4621819424</title>\n<polygon fill=\"lightgrey\" stroke=\"black\" points=\"101,-201.5 0,-201.5 0,-182.5 101,-182.5 101,-201.5\"/>\n<text text-anchor=\"middle\" x=\"50.5\" y=\"-189.5\" font-family=\"monospace\" font-size=\"10.00\">AccumulateGrad</text>\n</g>\n<!-- 4621819424&#45;&gt;4621818512 -->\n<g id=\"edge2\" class=\"edge\">\n<title>4621819424&#45;&gt;4621818512</title>\n<path fill=\"none\" stroke=\"black\" d=\"M50.5,-182.37C50.5,-174.25 50.5,-161.81 50.5,-151.39\"/>\n<polygon fill=\"black\" stroke=\"black\" points=\"54,-151.17 50.5,-141.17 47,-151.17 54,-151.17\"/>\n</g>\n<!-- 4621773136 -->\n<g id=\"node5\" class=\"node\">\n<title>4621773136</title>\n<polygon fill=\"lightblue\" stroke=\"black\" points=\"80,-273 21,-273 21,-243 80,-243 80,-273\"/>\n<text text-anchor=\"middle\" x=\"50.5\" y=\"-261\" font-family=\"monospace\" font-size=\"10.00\">W</text>\n<text text-anchor=\"middle\" x=\"50.5\" y=\"-250\" font-family=\"monospace\" font-size=\"10.00\"> (2, 5)</text>\n</g>\n<!-- 4621773136&#45;&gt;4621819424 -->\n<g id=\"edge3\" class=\"edge\">\n<title>4621773136&#45;&gt;4621819424</title>\n<path fill=\"none\" stroke=\"black\" d=\"M50.5,-242.8C50.5,-233.7 50.5,-221.79 50.5,-211.9\"/>\n<polygon fill=\"black\" stroke=\"black\" points=\"54,-211.84 50.5,-201.84 47,-211.84 54,-211.84\"/>\n</g>\n<!-- 4621818368 -->\n<g id=\"node6\" class=\"node\">\n<title>4621818368</title>\n<polygon fill=\"lightgrey\" stroke=\"black\" points=\"211,-141 110,-141 110,-122 211,-122 211,-141\"/>\n<text text-anchor=\"middle\" x=\"160.5\" y=\"-129\" font-family=\"monospace\" font-size=\"10.00\">AccumulateGrad</text>\n</g>\n<!-- 4621818368&#45;&gt;4621818320 -->\n<g id=\"edge4\" class=\"edge\">\n<title>4621818368&#45;&gt;4621818320</title>\n<path fill=\"none\" stroke=\"black\" d=\"M151.42,-121.75C143.41,-114.03 131.54,-102.6 121.88,-93.28\"/>\n<polygon fill=\"black\" stroke=\"black\" points=\"124.04,-90.51 114.41,-86.09 119.19,-95.55 124.04,-90.51\"/>\n</g>\n<!-- 4621773216 -->\n<g id=\"node7\" class=\"node\">\n<title>4621773216</title>\n<polygon fill=\"lightblue\" stroke=\"black\" points=\"187.5,-207 133.5,-207 133.5,-177 187.5,-177 187.5,-207\"/>\n<text text-anchor=\"middle\" x=\"160.5\" y=\"-195\" font-family=\"monospace\" font-size=\"10.00\">b</text>\n<text text-anchor=\"middle\" x=\"160.5\" y=\"-184\" font-family=\"monospace\" font-size=\"10.00\"> (2)</text>\n</g>\n<!-- 4621773216&#45;&gt;4621818368 -->\n<g id=\"edge5\" class=\"edge\">\n<title>4621773216&#45;&gt;4621818368</title>\n<path fill=\"none\" stroke=\"black\" d=\"M160.5,-176.84C160.5,-169.21 160.5,-159.7 160.5,-151.45\"/>\n<polygon fill=\"black\" stroke=\"black\" points=\"164,-151.27 160.5,-141.27 157,-151.27 164,-151.27\"/>\n</g>\n</g>\n</svg>\n",
            "text/plain": [
              "<graphviz.graphs.Digraph at 0x1137b59a0>"
            ]
          },
          "execution_count": 6,
          "metadata": {},
          "output_type": "execute_result"
        }
      ],
      "source": [
        "from torchviz import make_dot\n",
        "make_dot(pred, { 'W': model.W, 'b': model.b})"
      ]
    },
    {
      "cell_type": "code",
      "execution_count": null,
      "metadata": {
        "id": "usAgguKZk9Xb",
        "outputId": "ceaef64d-1fc6-48f7-e82e-7c6bd10830b9"
      },
      "outputs": [
        {
          "name": "stdout",
          "output_type": "stream",
          "text": [
            "torch.Size([4, 5])\n",
            "torch.Size([4])\n",
            "torch.Size([2, 4])\n",
            "torch.Size([2])\n"
          ]
        },
        {
          "data": {
            "text/plain": [
              "tensor([-0.0627,  2.6049], grad_fn=<AddBackward0>)"
            ]
          },
          "execution_count": 10,
          "metadata": {},
          "output_type": "execute_result"
        }
      ],
      "source": [
        "class TwoLinearModule(torch.nn.Module):\n",
        "    def __init__(self, x_dim, y_dim, h_dim):\n",
        "        super(TwoLinearModule, self).__init__()\n",
        "        self.W1 = nn.Parameter(torch.randn(h_dim, x_dim, requires_grad=True))\n",
        "        self.b1 = nn.Parameter(torch.randn(h_dim))\n",
        "\n",
        "        self.W2 = nn.Parameter(torch.randn(y_dim, h_dim, requires_grad=True))\n",
        "        self.b2 = nn.Parameter(torch.randn(y_dim))\n",
        "\n",
        "    def forward(self, x):\n",
        "        tmp = self.W1 @ x + self.b1\n",
        "        tmp = torch.sigmoid(tmp)            #activation function\n",
        "        return self.W2 @ tmp + self.b2\n",
        "\n",
        "x = torch.randn(5)\n",
        "y = torch.randn(2)\n",
        "\n",
        "model = TwoLinearModule(5, 2, 4)\n",
        "\n",
        "for param in model.parameters():\n",
        "    print(param.size())\n",
        "\n",
        "pred = model(x)\n",
        "pred\n"
      ]
    },
    {
      "cell_type": "code",
      "execution_count": null,
      "metadata": {
        "id": "EQNU5Av3k9Xb",
        "outputId": "75d4cd52-63b5-4c89-dc48-9425b06d755d"
      },
      "outputs": [
        {
          "data": {
            "image/svg+xml": "<?xml version=\"1.0\" encoding=\"UTF-8\" standalone=\"no\"?>\n<!DOCTYPE svg PUBLIC \"-//W3C//DTD SVG 1.1//EN\"\n \"http://www.w3.org/Graphics/SVG/1.1/DTD/svg11.dtd\">\n<!-- Generated by graphviz version 5.0.0 (20220707.1540)\n -->\n<!-- Pages: 1 -->\n<svg width=\"340pt\" height=\"468pt\"\n viewBox=\"0.00 0.00 340.00 468.00\" xmlns=\"http://www.w3.org/2000/svg\" xmlns:xlink=\"http://www.w3.org/1999/xlink\">\n<g id=\"graph0\" class=\"graph\" transform=\"scale(1 1) rotate(0) translate(4 464)\">\n<polygon fill=\"white\" stroke=\"transparent\" points=\"-4,4 -4,-464 336,-464 336,4 -4,4\"/>\n<!-- 4622148928 -->\n<g id=\"node1\" class=\"node\">\n<title>4622148928</title>\n<polygon fill=\"#caff70\" stroke=\"black\" points=\"253.5,-31 199.5,-31 199.5,0 253.5,0 253.5,-31\"/>\n<text text-anchor=\"middle\" x=\"226.5\" y=\"-7\" font-family=\"monospace\" font-size=\"10.00\"> (2)</text>\n</g>\n<!-- 4621847664 -->\n<g id=\"node2\" class=\"node\">\n<title>4621847664</title>\n<polygon fill=\"lightgrey\" stroke=\"black\" points=\"271,-86 182,-86 182,-67 271,-67 271,-86\"/>\n<text text-anchor=\"middle\" x=\"226.5\" y=\"-74\" font-family=\"monospace\" font-size=\"10.00\">AddBackward0</text>\n</g>\n<!-- 4621847664&#45;&gt;4622148928 -->\n<g id=\"edge13\" class=\"edge\">\n<title>4621847664&#45;&gt;4622148928</title>\n<path fill=\"none\" stroke=\"black\" d=\"M226.5,-66.79C226.5,-60.07 226.5,-50.4 226.5,-41.34\"/>\n<polygon fill=\"black\" stroke=\"black\" points=\"230,-41.19 226.5,-31.19 223,-41.19 230,-41.19\"/>\n</g>\n<!-- 4621846464 -->\n<g id=\"node3\" class=\"node\">\n<title>4621846464</title>\n<polygon fill=\"lightgrey\" stroke=\"black\" points=\"213,-141 130,-141 130,-122 213,-122 213,-141\"/>\n<text text-anchor=\"middle\" x=\"171.5\" y=\"-129\" font-family=\"monospace\" font-size=\"10.00\">MvBackward0</text>\n</g>\n<!-- 4621846464&#45;&gt;4621847664 -->\n<g id=\"edge1\" class=\"edge\">\n<title>4621846464&#45;&gt;4621847664</title>\n<path fill=\"none\" stroke=\"black\" d=\"M180.58,-121.75C188.59,-114.03 200.46,-102.6 210.12,-93.28\"/>\n<polygon fill=\"black\" stroke=\"black\" points=\"212.81,-95.55 217.59,-86.09 207.96,-90.51 212.81,-95.55\"/>\n</g>\n<!-- 4621847424 -->\n<g id=\"node4\" class=\"node\">\n<title>4621847424</title>\n<polygon fill=\"lightgrey\" stroke=\"black\" points=\"101,-201.5 0,-201.5 0,-182.5 101,-182.5 101,-201.5\"/>\n<text text-anchor=\"middle\" x=\"50.5\" y=\"-189.5\" font-family=\"monospace\" font-size=\"10.00\">AccumulateGrad</text>\n</g>\n<!-- 4621847424&#45;&gt;4621846464 -->\n<g id=\"edge2\" class=\"edge\">\n<title>4621847424&#45;&gt;4621846464</title>\n<path fill=\"none\" stroke=\"black\" d=\"M68.09,-182.49C88.26,-172.75 121.52,-156.66 144.86,-145.38\"/>\n<polygon fill=\"black\" stroke=\"black\" points=\"146.4,-148.52 153.88,-141.02 143.36,-142.22 146.4,-148.52\"/>\n</g>\n<!-- 4622148768 -->\n<g id=\"node5\" class=\"node\">\n<title>4622148768</title>\n<polygon fill=\"lightblue\" stroke=\"black\" points=\"80,-273 21,-273 21,-243 80,-243 80,-273\"/>\n<text text-anchor=\"middle\" x=\"50.5\" y=\"-261\" font-family=\"monospace\" font-size=\"10.00\">W2</text>\n<text text-anchor=\"middle\" x=\"50.5\" y=\"-250\" font-family=\"monospace\" font-size=\"10.00\"> (2, 4)</text>\n</g>\n<!-- 4622148768&#45;&gt;4621847424 -->\n<g id=\"edge3\" class=\"edge\">\n<title>4622148768&#45;&gt;4621847424</title>\n<path fill=\"none\" stroke=\"black\" d=\"M50.5,-242.8C50.5,-233.7 50.5,-221.79 50.5,-211.9\"/>\n<polygon fill=\"black\" stroke=\"black\" points=\"54,-211.84 50.5,-201.84 47,-211.84 54,-211.84\"/>\n</g>\n<!-- 4621848336 -->\n<g id=\"node6\" class=\"node\">\n<title>4621848336</title>\n<polygon fill=\"lightgrey\" stroke=\"black\" points=\"232,-201.5 119,-201.5 119,-182.5 232,-182.5 232,-201.5\"/>\n<text text-anchor=\"middle\" x=\"175.5\" y=\"-189.5\" font-family=\"monospace\" font-size=\"10.00\">SigmoidBackward0</text>\n</g>\n<!-- 4621848336&#45;&gt;4621846464 -->\n<g id=\"edge4\" class=\"edge\">\n<title>4621848336&#45;&gt;4621846464</title>\n<path fill=\"none\" stroke=\"black\" d=\"M174.91,-182.37C174.35,-174.25 173.5,-161.81 172.79,-151.39\"/>\n<polygon fill=\"black\" stroke=\"black\" points=\"176.27,-150.91 172.09,-141.17 169.28,-151.38 176.27,-150.91\"/>\n</g>\n<!-- 4621847760 -->\n<g id=\"node7\" class=\"node\">\n<title>4621847760</title>\n<polygon fill=\"lightgrey\" stroke=\"black\" points=\"220,-267.5 131,-267.5 131,-248.5 220,-248.5 220,-267.5\"/>\n<text text-anchor=\"middle\" x=\"175.5\" y=\"-255.5\" font-family=\"monospace\" font-size=\"10.00\">AddBackward0</text>\n</g>\n<!-- 4621847760&#45;&gt;4621848336 -->\n<g id=\"edge5\" class=\"edge\">\n<title>4621847760&#45;&gt;4621848336</title>\n<path fill=\"none\" stroke=\"black\" d=\"M175.5,-248.37C175.5,-239.16 175.5,-224.29 175.5,-212.27\"/>\n<polygon fill=\"black\" stroke=\"black\" points=\"179,-211.91 175.5,-201.91 172,-211.91 179,-211.91\"/>\n</g>\n<!-- 4621845936 -->\n<g id=\"node8\" class=\"node\">\n<title>4621845936</title>\n<polygon fill=\"lightgrey\" stroke=\"black\" points=\"162,-328 79,-328 79,-309 162,-309 162,-328\"/>\n<text text-anchor=\"middle\" x=\"120.5\" y=\"-316\" font-family=\"monospace\" font-size=\"10.00\">MvBackward0</text>\n</g>\n<!-- 4621845936&#45;&gt;4621847760 -->\n<g id=\"edge6\" class=\"edge\">\n<title>4621845936&#45;&gt;4621847760</title>\n<path fill=\"none\" stroke=\"black\" d=\"M128.62,-308.87C136.9,-300.05 149.97,-286.16 160.2,-275.27\"/>\n<polygon fill=\"black\" stroke=\"black\" points=\"163.05,-277.35 167.35,-267.67 157.95,-272.56 163.05,-277.35\"/>\n</g>\n<!-- 4621845216 -->\n<g id=\"node9\" class=\"node\">\n<title>4621845216</title>\n<polygon fill=\"lightgrey\" stroke=\"black\" points=\"171,-388.5 70,-388.5 70,-369.5 171,-369.5 171,-388.5\"/>\n<text text-anchor=\"middle\" x=\"120.5\" y=\"-376.5\" font-family=\"monospace\" font-size=\"10.00\">AccumulateGrad</text>\n</g>\n<!-- 4621845216&#45;&gt;4621845936 -->\n<g id=\"edge7\" class=\"edge\">\n<title>4621845216&#45;&gt;4621845936</title>\n<path fill=\"none\" stroke=\"black\" d=\"M120.5,-369.37C120.5,-361.25 120.5,-348.81 120.5,-338.39\"/>\n<polygon fill=\"black\" stroke=\"black\" points=\"124,-338.17 120.5,-328.17 117,-338.17 124,-338.17\"/>\n</g>\n<!-- 4621945088 -->\n<g id=\"node10\" class=\"node\">\n<title>4621945088</title>\n<polygon fill=\"lightblue\" stroke=\"black\" points=\"150,-460 91,-460 91,-430 150,-430 150,-460\"/>\n<text text-anchor=\"middle\" x=\"120.5\" y=\"-448\" font-family=\"monospace\" font-size=\"10.00\">W1</text>\n<text text-anchor=\"middle\" x=\"120.5\" y=\"-437\" font-family=\"monospace\" font-size=\"10.00\"> (4, 5)</text>\n</g>\n<!-- 4621945088&#45;&gt;4621845216 -->\n<g id=\"edge8\" class=\"edge\">\n<title>4621945088&#45;&gt;4621845216</title>\n<path fill=\"none\" stroke=\"black\" d=\"M120.5,-429.8C120.5,-420.7 120.5,-408.79 120.5,-398.9\"/>\n<polygon fill=\"black\" stroke=\"black\" points=\"124,-398.84 120.5,-388.84 117,-398.84 124,-398.84\"/>\n</g>\n<!-- 4621846032 -->\n<g id=\"node11\" class=\"node\">\n<title>4621846032</title>\n<polygon fill=\"lightgrey\" stroke=\"black\" points=\"281,-328 180,-328 180,-309 281,-309 281,-328\"/>\n<text text-anchor=\"middle\" x=\"230.5\" y=\"-316\" font-family=\"monospace\" font-size=\"10.00\">AccumulateGrad</text>\n</g>\n<!-- 4621846032&#45;&gt;4621847760 -->\n<g id=\"edge9\" class=\"edge\">\n<title>4621846032&#45;&gt;4621847760</title>\n<path fill=\"none\" stroke=\"black\" d=\"M222.38,-308.87C214.1,-300.05 201.03,-286.16 190.8,-275.27\"/>\n<polygon fill=\"black\" stroke=\"black\" points=\"193.05,-272.56 183.65,-267.67 187.95,-277.35 193.05,-272.56\"/>\n</g>\n<!-- 4622148368 -->\n<g id=\"node12\" class=\"node\">\n<title>4622148368</title>\n<polygon fill=\"lightblue\" stroke=\"black\" points=\"257.5,-394 203.5,-394 203.5,-364 257.5,-364 257.5,-394\"/>\n<text text-anchor=\"middle\" x=\"230.5\" y=\"-382\" font-family=\"monospace\" font-size=\"10.00\">b1</text>\n<text text-anchor=\"middle\" x=\"230.5\" y=\"-371\" font-family=\"monospace\" font-size=\"10.00\"> (4)</text>\n</g>\n<!-- 4622148368&#45;&gt;4621846032 -->\n<g id=\"edge10\" class=\"edge\">\n<title>4622148368&#45;&gt;4621846032</title>\n<path fill=\"none\" stroke=\"black\" d=\"M230.5,-363.84C230.5,-356.21 230.5,-346.7 230.5,-338.45\"/>\n<polygon fill=\"black\" stroke=\"black\" points=\"234,-338.27 230.5,-328.27 227,-338.27 234,-338.27\"/>\n</g>\n<!-- 4621846992 -->\n<g id=\"node13\" class=\"node\">\n<title>4621846992</title>\n<polygon fill=\"lightgrey\" stroke=\"black\" points=\"332,-141 231,-141 231,-122 332,-122 332,-141\"/>\n<text text-anchor=\"middle\" x=\"281.5\" y=\"-129\" font-family=\"monospace\" font-size=\"10.00\">AccumulateGrad</text>\n</g>\n<!-- 4621846992&#45;&gt;4621847664 -->\n<g id=\"edge11\" class=\"edge\">\n<title>4621846992&#45;&gt;4621847664</title>\n<path fill=\"none\" stroke=\"black\" d=\"M272.42,-121.75C264.41,-114.03 252.54,-102.6 242.88,-93.28\"/>\n<polygon fill=\"black\" stroke=\"black\" points=\"245.04,-90.51 235.41,-86.09 240.19,-95.55 245.04,-90.51\"/>\n</g>\n<!-- 4622148848 -->\n<g id=\"node14\" class=\"node\">\n<title>4622148848</title>\n<polygon fill=\"lightblue\" stroke=\"black\" points=\"308.5,-207 254.5,-207 254.5,-177 308.5,-177 308.5,-207\"/>\n<text text-anchor=\"middle\" x=\"281.5\" y=\"-195\" font-family=\"monospace\" font-size=\"10.00\">b2</text>\n<text text-anchor=\"middle\" x=\"281.5\" y=\"-184\" font-family=\"monospace\" font-size=\"10.00\"> (2)</text>\n</g>\n<!-- 4622148848&#45;&gt;4621846992 -->\n<g id=\"edge12\" class=\"edge\">\n<title>4622148848&#45;&gt;4621846992</title>\n<path fill=\"none\" stroke=\"black\" d=\"M281.5,-176.84C281.5,-169.21 281.5,-159.7 281.5,-151.45\"/>\n<polygon fill=\"black\" stroke=\"black\" points=\"285,-151.27 281.5,-141.27 278,-151.27 285,-151.27\"/>\n</g>\n</g>\n</svg>\n",
            "text/plain": [
              "<graphviz.graphs.Digraph at 0x1137bcd60>"
            ]
          },
          "execution_count": 11,
          "metadata": {},
          "output_type": "execute_result"
        }
      ],
      "source": [
        "make_dot(pred, { 'W1': model.W1, 'b1': model.b1, 'W2': model.W2, 'b2': model.b2})"
      ]
    },
    {
      "cell_type": "markdown",
      "metadata": {
        "id": "jH0lur4Qk9Xc"
      },
      "source": [
        "## Don't want to build your model from scratch?  Pytorch模型"
      ]
    },
    {
      "cell_type": "code",
      "execution_count": null,
      "metadata": {
        "colab": {
          "base_uri": "https://localhost:8080/"
        },
        "id": "CvTqUiI2k9Xc",
        "outputId": "483d1a90-dd60-4bff-8c81-61938e001c2d"
      },
      "outputs": [
        {
          "output_type": "stream",
          "name": "stdout",
          "text": [
            "Difference in W =  tensor([[-0.0105, -0.0013],\n",
            "        [-0.0164, -0.0014],\n",
            "        [-0.0099,  0.0008],\n",
            "        [-0.0043, -0.0010],\n",
            "        [-0.0307, -0.0099]])\n"
          ]
        }
      ],
      "source": [
        "LinearModel = torch.nn.Linear(2,5)\n",
        "W_copy = LinearModel.weight.clone().detach()\n",
        "\n",
        "optimiser = torch.optim.SGD(LinearModel.parameters(), lr = 0.1, momentum=0.9)\n",
        "optimiser.zero_grad()       #clear the gradient first\n",
        "loss_fn = torch.nn.MSELoss()\n",
        "\n",
        "input = torch.randn(3, 2, requires_grad=True)\n",
        "target = torch.randn(3, 5).softmax(dim=1)\n",
        "pred = LinearModel(input)\n",
        "\n",
        "loss = loss_fn(pred, target)\n",
        "loss.backward()\n",
        "\n",
        "optimiser.step()\n",
        "\n",
        "W_new_copy = LinearModel.weight.clone().detach()\n",
        "\n",
        "print('Difference in W = ', W_new_copy-W_copy)\n",
        "\n",
        "\n"
      ]
    },
    {
      "cell_type": "markdown",
      "metadata": {
        "id": "cVzR1US_k9Xc"
      },
      "source": [
        "or use nn.Sequential"
      ]
    },
    {
      "cell_type": "code",
      "execution_count": null,
      "metadata": {
        "id": "m12aL5kAk9Xc"
      },
      "outputs": [],
      "source": [
        "Net = nn.Sequential(\n",
        "    nn.Linear(2,10),\n",
        "    nn.ReLU(),\n",
        "    nn.Linear(10, 5)\n",
        ")\n",
        "optimiser = torch.optim.SGD(Net.parameters(), lr = 0.1, momentum=0.9)\n",
        "optimiser.zero_grad()       #clear the gradient first\n",
        "loss_fn = torch.nn.MSELoss()\n",
        "\n",
        "input = torch.randn(3, 2, requires_grad=True)\n",
        "target = torch.randn(3, 5).softmax(dim=1)\n",
        "pred = Net(input)\n",
        "loss = loss_fn(pred, target)\n",
        "loss.backward()\n",
        "\n",
        "optimiser.step()"
      ]
    },
    {
      "cell_type": "markdown",
      "metadata": {
        "id": "Y3g_4RtWk9Xc"
      },
      "source": [
        "## Some useful tools 一些工具"
      ]
    },
    {
      "cell_type": "markdown",
      "metadata": {
        "id": "DwCT-1vHk9Xc"
      },
      "source": [
        "#### DataLoader"
      ]
    },
    {
      "cell_type": "markdown",
      "metadata": {
        "id": "56d1f5bd"
      },
      "source": [
        "导入库"
      ]
    },
    {
      "cell_type": "code",
      "execution_count": null,
      "metadata": {
        "id": "UJmhbgyPk9Xd"
      },
      "outputs": [],
      "source": [
        "import torch\n",
        "import torch.utils.data as Data"
      ]
    },
    {
      "cell_type": "markdown",
      "metadata": {
        "id": "85814519"
      },
      "source": [
        "生成数据并包装为dataset"
      ]
    },
    {
      "cell_type": "code",
      "execution_count": null,
      "metadata": {
        "id": "LHEbvKTHk9Xd"
      },
      "outputs": [],
      "source": [
        "#生成1,2,3,4,5,6,7,8,9,10\n",
        "x = torch.linspace(1, 10, 10)\n",
        "#生成10,9,8,7,6,5,4,3,2,1\n",
        "y = torch.linspace(10, 1, 10)\n",
        "# 对于给定的tensor数据（样本和标签），将其包装为dataset\n",
        "torch_dataset = Data.TensorDataset(x, y)"
      ]
    },
    {
      "cell_type": "markdown",
      "metadata": {
        "id": "a085058d"
      },
      "source": [
        "创建一个dataloader类的实例"
      ]
    },
    {
      "cell_type": "code",
      "execution_count": null,
      "metadata": {
        "id": "UD20ZgLpk9Xd"
      },
      "outputs": [],
      "source": [
        "\n",
        "loader = Data.DataLoader(\n",
        "    # 从数据库中每次抽出batch size个样本\n",
        "    dataset=torch_dataset,\n",
        "    batch_size=5,\n",
        "    shuffle=True,\n",
        "    num_workers=2,\n",
        ")"
      ]
    },
    {
      "cell_type": "markdown",
      "metadata": {
        "id": "9560d001"
      },
      "source": [
        "重复多次显示一个batch的数据"
      ]
    },
    {
      "cell_type": "code",
      "execution_count": null,
      "metadata": {
        "id": "uL6fmw6ok9Xd",
        "outputId": "58eb2a1f-50fd-43fc-a989-dd5707d8f186"
      },
      "outputs": [
        {
          "name": "stdout",
          "output_type": "stream",
          "text": [
            "step:0, batch_x:tensor([ 3.,  7.,  2., 10.,  4.]), batch_y:tensor([8., 4., 9., 1., 7.])\n",
            "step:1, batch_x:tensor([9., 5., 1., 8., 6.]), batch_y:tensor([ 2.,  6., 10.,  3.,  5.])\n",
            "step:0, batch_x:tensor([6., 4., 7., 1., 3.]), batch_y:tensor([ 5.,  7.,  4., 10.,  8.])\n",
            "step:1, batch_x:tensor([ 8., 10.,  5.,  9.,  2.]), batch_y:tensor([3., 1., 6., 2., 9.])\n",
            "step:0, batch_x:tensor([1., 3., 9., 2., 8.]), batch_y:tensor([10.,  8.,  2.,  9.,  3.])\n",
            "step:1, batch_x:tensor([ 7.,  6.,  5., 10.,  4.]), batch_y:tensor([4., 5., 6., 1., 7.])\n"
          ]
        }
      ],
      "source": [
        "def show_batch():\n",
        "    for epoch in range(3):\n",
        "        for step, (batch_x, batch_y) in enumerate(loader):\n",
        "            # training\n",
        "\n",
        "\n",
        "            print(\"step:{}, batch_x:{}, batch_y:{}\".format(step, batch_x, batch_y))\n",
        "\n",
        "show_batch()\n"
      ]
    },
    {
      "cell_type": "markdown",
      "metadata": {
        "id": "9uJWhZbzk9Xd"
      },
      "source": [
        "#### Tensorboard"
      ]
    },
    {
      "cell_type": "markdown",
      "metadata": {
        "id": "95502333"
      },
      "source": [
        "一般来说，直接pip安装即可"
      ]
    },
    {
      "cell_type": "markdown",
      "metadata": {
        "id": "581fe418"
      },
      "source": [
        "```shell\n",
        "pip install tensorboard\n",
        "```"
      ]
    },
    {
      "cell_type": "markdown",
      "metadata": {
        "id": "c6110612"
      },
      "source": [
        "Tensorboard的工作流程简单来说是\n",
        "\n",
        "* 将代码运行过程中的，某些你关心的数据保存在一个文件夹中：\n",
        "\n",
        "        这一步由代码中的writer完成\n",
        "* 再读取这个文件夹中的数据，用浏览器显示出来：\n",
        "\n",
        "        这一步通过在命令行运行tensorboard完成。"
      ]
    },
    {
      "cell_type": "code",
      "execution_count": null,
      "metadata": {
        "id": "o6NmVtHvk9Xe"
      },
      "outputs": [],
      "source": [
        "#首先带入库\n",
        "from torch.utils.tensorboard import SummaryWriter  \n",
        "\n",
        "#........#\n",
        "\n",
        "#讲其实例化\n",
        "writer = SummaryWriter('./path/to/log')"
      ]
    },
    {
      "cell_type": "markdown",
      "metadata": {
        "id": "06744458"
      },
      "source": [
        "这里传入的参数就是指向文件夹的路径，之后我们使用这个writer对象“拿出来”的任何数据都保存在这个路径之下。\n",
        "\n",
        "这个对象包含多个方法，比如针对数值，我们可以调用"
      ]
    },
    {
      "cell_type": "markdown",
      "metadata": {
        "id": "3c8024ae"
      },
      "source": [
        "writer.add_scalar(tag, scalar_value, global_step=None, walltime=None)"
      ]
    },
    {
      "cell_type": "markdown",
      "metadata": {
        "id": "5b0548fb"
      },
      "source": [
        "这里的**tag**指定可视化时这个变量的名字，**scalar_value**是你要存的值，**global_step**可以理解为x轴坐标。"
      ]
    },
    {
      "cell_type": "markdown",
      "metadata": {
        "id": "b3fef24c"
      },
      "source": [
        "**可视化:**\n",
        "\n",
        "我们已经将关心的数据拿出来了，接下来我们只需要在**命令行**运行：\n"
      ]
    },
    {
      "cell_type": "markdown",
      "metadata": {
        "id": "020c88dc"
      },
      "source": [
        "```shell\n",
        "tensorboard --logdir=./path/to/the/folder --port 8123\n",
        "```"
      ]
    },
    {
      "cell_type": "markdown",
      "metadata": {
        "id": "f5f0d172"
      },
      "source": [
        "这里的8123只是随便一个例子，用其他的未被占用端口也没有任何问题，注意命令行的端口与浏览器访问的地址同步。"
      ]
    },
    {
      "cell_type": "markdown",
      "metadata": {
        "id": "0aab5250"
      },
      "source": [
        "**细节:**"
      ]
    },
    {
      "cell_type": "markdown",
      "metadata": {
        "id": "3f048ed2"
      },
      "source": [
        "1. 这样命名，3个loss就会被显示在同一个section"
      ]
    },
    {
      "cell_type": "code",
      "execution_count": null,
      "metadata": {
        "id": "wfGi2cJHk9Xf"
      },
      "outputs": [],
      "source": [
        "writer.add_scalar('loss/loss1', loss1, epoch)\n",
        "writer.add_scalar('loss/loss2', loss2, epoch)\n",
        "writer.add_scalar('loss/loss3', loss3, epoch)"
      ]
    },
    {
      "cell_type": "markdown",
      "metadata": {
        "id": "N9FKfgBHk9Xf"
      },
      "source": [
        "#### Save and load models"
      ]
    },
    {
      "cell_type": "code",
      "execution_count": null,
      "metadata": {
        "id": "DnAakazxk9Xf",
        "outputId": "f1e7da10-1d19-4ec4-e6dc-a91102750c0d"
      },
      "outputs": [
        {
          "data": {
            "text/plain": [
              "[<matplotlib.lines.Line2D at 0x116198160>]"
            ]
          },
          "execution_count": 7,
          "metadata": {},
          "output_type": "execute_result"
        },
        {
          "data": {
            "image/png": "[encoded data removed]",
            "text/plain": [
              "<Figure size 720x216 with 1 Axes>"
            ]
          },
          "metadata": {
            "needs_background": "light"
          },
          "output_type": "display_data"
        }
      ],
      "source": [
        "import torch\n",
        "import matplotlib.pyplot as plt\n",
        "# fake data\n",
        "x = torch.unsqueeze(torch.linspace(-1, 1, 100), dim=1)  # x data (tensor), shape=(100, 1)\n",
        "y = x.pow(2) + 0.2*torch.rand(x.size())  # noisy y data (tensor), shape=(100, 1)\n",
        "\n",
        "# save net1\n",
        "net1 = torch.nn.Sequential(\n",
        "    torch.nn.Linear(1, 10),\n",
        "    torch.nn.ReLU(),\n",
        "    torch.nn.Linear(10, 1)\n",
        ")\n",
        "optimizer = torch.optim.SGD(net1.parameters(), lr=0.5)\n",
        "loss_func = torch.nn.MSELoss()\n",
        "\n",
        "for t in range(100):\n",
        "    prediction = net1(x)\n",
        "    loss = loss_func(prediction, y)\n",
        "    optimizer.zero_grad()\n",
        "    loss.backward()\n",
        "    optimizer.step()\n",
        "\n",
        "# plot result\n",
        "plt.figure(1, figsize=(10, 3))\n",
        "plt.subplot(131)\n",
        "plt.title('Net1')\n",
        "plt.scatter(x.data.numpy(), y.data.numpy())\n",
        "plt.plot(x.data.numpy(), prediction.data.numpy(), 'r-', lw=5)"
      ]
    },
    {
      "cell_type": "markdown",
      "metadata": {
        "id": "au4WG37Ok9Xf"
      },
      "source": [
        "**两种方式保存模型**：\n",
        "\n",
        "* 只保存网络中的参数\n",
        "* 保存整个网络"
      ]
    },
    {
      "cell_type": "code",
      "execution_count": null,
      "metadata": {
        "id": "Dxb1Y1hPk9Xg"
      },
      "outputs": [],
      "source": [
        "# 2 ways to save the net\n",
        "torch.save(net1, 'net.pkl')  # save entire net\n",
        "torch.save(net1.state_dict(), 'net_params.pkl')   # save only the parameters"
      ]
    },
    {
      "cell_type": "markdown",
      "metadata": {
        "id": "c88fcbcf"
      },
      "source": [
        "**加载模型**"
      ]
    },
    {
      "cell_type": "markdown",
      "metadata": {
        "id": "91fa584b"
      },
      "source": [
        "1. 直接加载整个模型"
      ]
    },
    {
      "cell_type": "code",
      "execution_count": null,
      "metadata": {
        "id": "wQOgmuzEk9Xg",
        "outputId": "3a1d25d7-d92e-4729-f053-d05d23d30e2a"
      },
      "outputs": [
        {
          "name": "stdout",
          "output_type": "stream",
          "text": [
            "Sequential(\n",
            "  (0): Linear(in_features=1, out_features=10, bias=True)\n",
            "  (1): ReLU()\n",
            "  (2): Linear(in_features=10, out_features=1, bias=True)\n",
            ")\n"
          ]
        },
        {
          "data": {
            "image/png": "[encoded data removed]",
            "text/plain": [
              "<Figure size 432x288 with 1 Axes>"
            ]
          },
          "metadata": {
            "needs_background": "light"
          },
          "output_type": "display_data"
        }
      ],
      "source": [
        "net2 = torch.load('net.pkl')\n",
        "print(net2)\n",
        "prediction = net2(x)\n",
        "\n",
        "# plot result\n",
        "plt.subplot(132)\n",
        "plt.title('Net2')\n",
        "plt.scatter(x.data.numpy(), y.data.numpy())\n",
        "plt.plot(x.data.numpy(), prediction.data.numpy(), 'r-', lw=5);\n"
      ]
    },
    {
      "cell_type": "code",
      "execution_count": null,
      "metadata": {
        "id": "bjAlJe9Lk9Xg",
        "outputId": "1dc3111b-bd2c-4f99-b19e-8cdf8dd4914e"
      },
      "outputs": [
        {
          "data": {
            "text/plain": [
              "Sequential(\n",
              "  (0): Linear(in_features=1, out_features=10, bias=True)\n",
              "  (1): ReLU()\n",
              "  (2): Linear(in_features=10, out_features=1, bias=True)\n",
              ")"
            ]
          },
          "execution_count": 10,
          "metadata": {},
          "output_type": "execute_result"
        }
      ],
      "source": [
        "net2"
      ]
    },
    {
      "cell_type": "markdown",
      "metadata": {
        "id": "4c0f6195"
      },
      "source": [
        "2. 新建相同大小的网络，再加载参数"
      ]
    },
    {
      "cell_type": "code",
      "execution_count": null,
      "metadata": {
        "id": "qetKxCsdk9Xh",
        "outputId": "d843ef57-9c28-40c9-9bba-00fb4820ef6f"
      },
      "outputs": [
        {
          "data": {
            "image/png": "[encoded data removed]",
            "text/plain": [
              "<Figure size 432x288 with 1 Axes>"
            ]
          },
          "metadata": {
            "needs_background": "light"
          },
          "output_type": "display_data"
        }
      ],
      "source": [
        "net3 = torch.nn.Sequential(\n",
        "    torch.nn.Linear(1, 10),\n",
        "    torch.nn.ReLU(),\n",
        "    torch.nn.Linear(10, 1)\n",
        ")\n",
        "\n",
        "# copy net1's parameters into net3\n",
        "net3.load_state_dict(torch.load('net_params.pkl'))\n",
        "prediction = net3(x)\n",
        "\n",
        "# plot result\n",
        "plt.subplot(133)\n",
        "plt.title('Net3')\n",
        "plt.scatter(x.data.numpy(), y.data.numpy())\n",
        "plt.plot(x.data.numpy(), prediction.data.numpy(), 'r-', lw=5)\n",
        "plt.show()"
      ]
    },
    {
      "cell_type": "markdown",
      "metadata": {
        "id": "GrhYcrVKk9Xh"
      },
      "source": [
        "## Training Loop Scaffold\n"
      ]
    },
    {
      "cell_type": "code",
      "execution_count": null,
      "metadata": {
        "id": "tzsHkoY-k9Xh"
      },
      "outputs": [],
      "source": [
        "x = torch.linspace(1, 10, 10)\n",
        "y = torch.linspace(10, 1, 10)\n",
        "torch_dataset = Data.TensorDataset(x, y)\n",
        "\n",
        "loader = Data.DataLoader(\n",
        "    # 从数据库中每次抽出batch size个样本\n",
        "    dataset=torch_dataset,\n",
        "    batch_size=5,\n",
        "    shuffle=True,\n",
        "    num_workers=2,\n",
        ")\n",
        "\n",
        "# save net1\n",
        "net1 = torch.nn.Sequential(\n",
        "    torch.nn.Linear(1, 10),\n",
        "    torch.nn.ReLU(),\n",
        "    torch.nn.Linear(10, 1)\n",
        ")\n",
        "optimizer = torch.optim.SGD(net1.parameters(), lr=0.5)\n",
        "loss_func = torch.nn.MSELoss()\n",
        "\n",
        "from torch.utils.tensorboard import SummaryWriter\n",
        "writer = SummaryWriter()        #tb log path\n",
        "\n",
        "update_epoch = 0\n",
        "\n",
        "for i in range(10):\n",
        "    for sample_X, sample_Y in loader:\n",
        "        pred_Y = net1(sample_X)\n",
        "\n",
        "        loss = loss_func(pred_Y, sample_Y)\n",
        "        loss.backward()\n",
        "        optimizer.zero_grad()\n",
        "        loss.backward()\n",
        "        optimizer.step()\n",
        "        update_epoch += 1\n",
        "        writer.add_scalar(\"loss\", loss.item(), update_epoch)\n",
        "\n",
        "    while (i+1) % 5 == 0:\n",
        "        torch.save(net1.state_dict())\n",
        "    \n",
        "\n",
        "    while (i+1)%2 == 0:\n",
        "        #evaluation ....\n",
        "\n",
        "\n"
      ]
    },
    {
      "cell_type": "code",
      "execution_count": null,
      "metadata": {
        "id": "1NKUYSxPk9Xh"
      },
      "outputs": [],
      "source": [
        ""
      ]
    },
    {
      "cell_type": "code",
      "execution_count": null,
      "metadata": {
        "id": "3HPda8ezk9Xh"
      },
      "outputs": [],
      "source": [
        ""
      ]
    },
    {
      "cell_type": "markdown",
      "metadata": {
        "id": "UM2DNGJuk9Xh"
      },
      "source": [
        "## Hands-on tasks 实战 (详情见Pytorch入门3)"
      ]
    },
    {
      "cell_type": "markdown",
      "metadata": {
        "id": "JpSFyiUpk9Xi"
      },
      "source": [
        ""
      ]
    },
    {
      "cell_type": "markdown",
      "metadata": {
        "id": "89O9QIqAk9Xi"
      },
      "source": [
        "## Homework: A Behaviour Cloning Example and Jidi  作业：BC决策案例"
      ]
    },
    {
      "cell_type": "markdown",
      "metadata": {
        "id": "yRQaMNeHk9Xi"
      },
      "source": [
        "install environment\n"
      ]
    },
    {
      "cell_type": "markdown",
      "metadata": {
        "id": "0Xl1OtWVk9Xi"
      },
      "source": [
        "![imgae](./AI-olympics.png)\n"
      ]
    },
    {
      "cell_type": "code",
      "execution_count": null,
      "metadata": {
        "colab": {
          "base_uri": "https://localhost:8080/"
        },
        "id": "OczZJv-3k9Xi",
        "outputId": "b0f140f9-4f4f-4157-8329-6c56797e936a"
      },
      "outputs": [
        {
          "output_type": "stream",
          "name": "stdout",
          "text": [
            "Cloning into 'olympics_engine'...\n",
            "remote: Enumerating objects: 699, done.\u001b[K\n",
            "remote: Counting objects: 100% (311/311), done.\u001b[K\n",
            "remote: Compressing objects: 100% (218/218), done.\u001b[K\n",
            "remote: Total 699 (delta 158), reused 226 (delta 86), pack-reused 388\u001b[K\n",
            "Receiving objects: 100% (699/699), 4.93 MiB | 14.25 MiB/s, done.\n",
            "Resolving deltas: 100% (408/408), done.\n"
          ]
        }
      ],
      "source": [
        "!git clone https://github.com/jidiai/olympics_engine.git"
      ]
    },
    {
      "cell_type": "markdown",
      "metadata": {
        "id": "PDtSP3Cgk9Xi"
      },
      "source": [
        "install environment on path where the repo is located in"
      ]
    },
    {
      "cell_type": "code",
      "execution_count": null,
      "metadata": {
        "id": "2DaJDnfJk9Xi",
        "colab": {
          "base_uri": "https://localhost:8080/"
        },
        "outputId": "96c9ee3e-3883-4a68-e5a6-d59688093dcc"
      },
      "outputs": [
        {
          "output_type": "stream",
          "name": "stdout",
          "text": [
            "\u001b[0m\u001b[01;34molympics_engine\u001b[0m/  \u001b[01;34msample_data\u001b[0m/\n"
          ]
        }
      ],
      "source": [
        "ls"
      ]
    },
    {
      "cell_type": "code",
      "execution_count": null,
      "metadata": {
        "colab": {
          "base_uri": "https://localhost:8080/"
        },
        "id": "9N1hH_j6k9Xi",
        "outputId": "af1af311-6caa-4c98-d165-8e31194d31c1"
      },
      "outputs": [
        {
          "output_type": "stream",
          "name": "stdout",
          "text": [
            "Name: olympics-engine\n",
            "Version: 0.1.0\n",
            "Summary: A multi-agent benchmark\n",
            "Home-page: https://github.com/jidiai/olympics_engine\n",
            "Author: Yan Song\n",
            "Author-email: yan.song@ia.ac.cn\n",
            "License: MIT\n",
            "Location: /usr/local/lib/python3.7/dist-packages\n",
            "Requires: pygame, gym, numpy\n",
            "Required-by: \n"
          ]
        }
      ],
      "source": [
        "pip show olympics_engine"
      ]
    },
    {
      "cell_type": "code",
      "execution_count": null,
      "metadata": {
        "colab": {
          "base_uri": "https://localhost:8080/"
        },
        "id": "PHhQJ_Rqk9Xi",
        "outputId": "7766417e-df38-474e-fe12-0d4771889516"
      },
      "outputs": [
        {
          "output_type": "stream",
          "name": "stdout",
          "text": [
            "Looking in indexes: https://pypi.org/simple, https://us-python.pkg.dev/colab-wheels/public/simple/\n",
            "Processing ./olympics_engine\n",
            "\u001b[33m  DEPRECATION: A future pip version will change local packages to be built in-place without first copying to a temporary directory. We recommend you use --use-feature=in-tree-build to test your packages with this new behavior before it becomes the default.\n",
            "   pip 21.3 will remove support for this functionality. You can find discussion regarding this at https://github.com/pypa/pip/issues/7555.\u001b[0m\n",
            "Requirement already satisfied: pygame==2.0.2 in /usr/local/lib/python3.7/dist-packages (from olympics-engine==0.1.0) (2.0.2)\n",
            "Requirement already satisfied: numpy in /usr/local/lib/python3.7/dist-packages (from olympics-engine==0.1.0) (1.21.6)\n",
            "Requirement already satisfied: gym in /usr/local/lib/python3.7/dist-packages (from olympics-engine==0.1.0) (0.17.3)\n",
            "Requirement already satisfied: cloudpickle<1.7.0,>=1.2.0 in /usr/local/lib/python3.7/dist-packages (from gym->olympics-engine==0.1.0) (1.3.0)\n",
            "Requirement already satisfied: pyglet<=1.5.0,>=1.4.0 in /usr/local/lib/python3.7/dist-packages (from gym->olympics-engine==0.1.0) (1.5.0)\n",
            "Requirement already satisfied: scipy in /usr/local/lib/python3.7/dist-packages (from gym->olympics-engine==0.1.0) (1.7.3)\n",
            "Requirement already satisfied: future in /usr/local/lib/python3.7/dist-packages (from pyglet<=1.5.0,>=1.4.0->gym->olympics-engine==0.1.0) (0.16.0)\n",
            "Building wheels for collected packages: olympics-engine\n",
            "  Building wheel for olympics-engine (setup.py) ... \u001b[?25l\u001b[?25hdone\n",
            "  Created wheel for olympics-engine: filename=olympics_engine-0.1.0-py3-none-any.whl size=78054 sha256=8f5a98de578af707d2857eba052082e98c56ce7f5900ba1fdb6e78e607fe9931\n",
            "  Stored in directory: /tmp/pip-ephem-wheel-cache-x58fj4wz/wheels/37/1e/16/2dcaec57a1b05a55e54ab1935e62098b22567c2836cf7ce85c\n",
            "Successfully built olympics-engine\n",
            "Installing collected packages: olympics-engine\n",
            "Successfully installed olympics-engine-0.1.0\n"
          ]
        }
      ],
      "source": [
        "pip install olympics_engine/."
      ]
    },
    {
      "cell_type": "markdown",
      "metadata": {
        "id": "JIyuQiJlk9Xj"
      },
      "source": [
        "then we haved install the wrestling environment, lets have a try!"
      ]
    },
    {
      "cell_type": "markdown",
      "metadata": {
        "id": "bgOHGAVFk9Xj"
      },
      "source": [
        ""
      ]
    },
    {
      "cell_type": "code",
      "execution_count": null,
      "metadata": {
        "colab": {
          "base_uri": "https://localhost:8080/"
        },
        "id": "aT-SZA9Qk9Xj",
        "outputId": "af705d21-eb2d-4123-fc1b-24a592c6b0c0"
      },
      "outputs": [
        {
          "output_type": "stream",
          "name": "stdout",
          "text": [
            "Name: olympics-engine\n",
            "Version: 0.1.0\n",
            "Summary: A multi-agent benchmark\n",
            "Home-page: https://github.com/jidiai/olympics_engine\n",
            "Author: Yan Song\n",
            "Author-email: yan.song@ia.ac.cn\n",
            "License: MIT\n",
            "Location: /usr/local/lib/python3.7/dist-packages\n",
            "Requires: numpy, gym, pygame\n",
            "Required-by: \n"
          ]
        }
      ],
      "source": [
        "!pip show olympics_engine"
      ]
    },
    {
      "cell_type": "code",
      "execution_count": null,
      "metadata": {
        "id": "jRYE_3Umk9Xj"
      },
      "outputs": [],
      "source": [
        "from olympics_engine.scenario import wrestling\n",
        "from olympics_engine.generator import create_scenario\n",
        "\n",
        "gamemap =  create_scenario('wrestling')        #load map config\n",
        "game = wrestling(gamemap)\n"
      ]
    },
    {
      "cell_type": "code",
      "source": [
        "game\n"
      ],
      "metadata": {
        "colab": {
          "base_uri": "https://localhost:8080/"
        },
        "id": "3E7pEy-_yav-",
        "outputId": "ac535aff-edbd-4fbe-b2cf-89886b44a7de"
      },
      "execution_count": null,
      "outputs": [
        {
          "output_type": "execute_result",
          "data": {
            "text/plain": [
              "<olympics_engine.scenario.wrestling.wrestling at 0x7fa34a5b2e50>"
            ]
          },
          "metadata": {},
          "execution_count": 17
        }
      ]
    },
    {
      "cell_type": "code",
      "execution_count": null,
      "metadata": {
        "colab": {
          "base_uri": "https://localhost:8080/",
          "height": 284
        },
        "id": "WB8sKQ4xk9Xj",
        "outputId": "1550b35c-3c8a-416d-ca64-d31134e530bc"
      },
      "outputs": [
        {
          "output_type": "stream",
          "name": "stdout",
          "text": [
            "(40, 40)\n"
          ]
        },
        {
          "output_type": "display_data",
          "data": {
            "text/plain": [
              "<Figure size 432x288 with 1 Axes>"
            ],
            "image/png": "[encoded data removed]"
          },
          "metadata": {
            "needs_background": "light"
          }
        }
      ],
      "source": [
        "obs = game.reset()\n",
        "print(obs[0]['agent_obs'].shape)\n",
        "\n",
        "import matplotlib.pyplot as plt\n",
        "\n",
        "plt.imshow(obs[0]['agent_obs']);            #what does the observation looks like"
      ]
    },
    {
      "cell_type": "code",
      "source": [
        "obs[0]['agent_obs']"
      ],
      "metadata": {
        "colab": {
          "base_uri": "https://localhost:8080/"
        },
        "id": "xPhPBiFyzEYx",
        "outputId": "f5b52323-4dc1-4434-f3f4-1c1eb703f607"
      },
      "execution_count": null,
      "outputs": [
        {
          "output_type": "execute_result",
          "data": {
            "text/plain": [
              "array([[0., 0., 0., ..., 0., 0., 4.],\n",
              "       [0., 0., 0., ..., 0., 4., 0.],\n",
              "       [0., 0., 0., ..., 4., 0., 0.],\n",
              "       ...,\n",
              "       [0., 0., 0., ..., 0., 0., 0.],\n",
              "       [0., 0., 0., ..., 0., 0., 0.],\n",
              "       [0., 0., 0., ..., 0., 0., 0.]])"
            ]
          },
          "metadata": {},
          "execution_count": 22
        }
      ]
    },
    {
      "cell_type": "markdown",
      "metadata": {
        "id": "IypY5y1Fk9Xj"
      },
      "source": [
        "Try to run it"
      ]
    },
    {
      "cell_type": "code",
      "execution_count": null,
      "metadata": {
        "id": "SDaGZt_3k9Xj",
        "outputId": "c8299f09-bb5c-4ca5-d746-517577c05485",
        "colab": {
          "base_uri": "https://localhost:8080/"
        }
      },
      "outputs": [
        {
          "output_type": "stream",
          "name": "stdout",
          "text": [
            "action dim 0 range =  [-100, 200]\n",
            "action dim 1 range =  [-30, 30]\n",
            "final reward =  [1.0, 0]\n"
          ]
        }
      ],
      "source": [
        "import random\n",
        "import pygame\n",
        "\n",
        "\n",
        "print('action dim 0 range = ',game.action_f)\n",
        "print('action dim 1 range = ', game.action_theta)\n",
        "our_team = 0        #we control team_0\n",
        "obs = game.reset()\n",
        "done = False\n",
        "RENDER = False\n",
        "if RENDER:\n",
        "    game.render()\n",
        "\n",
        "while not done:\n",
        "    action_team_0 = [random.uniform(-100,200), random.uniform(-30, 30)]     #for now we use random actions for both teams\n",
        "    action_team_1 = [random.uniform(-100,200), random.uniform(-30, 30)]\n",
        "    \n",
        "    if our_team:\n",
        "        input_action = [action_team_1, action_team_0]\n",
        "    else:\n",
        "        input_action = [action_team_0, action_team_1]\n",
        "\n",
        "\n",
        "    next_obs, reward, done, _ = game.step(input_action)\n",
        "    if RENDER:\n",
        "        game.render()\n",
        "    \n",
        "    obs = next_obs\n",
        "print('final reward = ', reward)\n",
        "pygame.display.quit()\n",
        "pygame.quit()\n",
        "\n"
      ]
    },
    {
      "cell_type": "code",
      "execution_count": null,
      "metadata": {
        "id": "wDO5A21Ik9Xk"
      },
      "outputs": [],
      "source": [
        ""
      ]
    },
    {
      "cell_type": "markdown",
      "metadata": {
        "id": "hiJiqxbck9Xk"
      },
      "source": [
        "We have provided some demonstration data, including the obesrvation and the corresponding action from an expert policy. Now our job is to mimick this beahviour by supervised learning."
      ]
    },
    {
      "cell_type": "code",
      "execution_count": null,
      "metadata": {
        "id": "BiyNqMVBk9Xk",
        "outputId": "47f212ae-20b6-4b8a-af64-a382f0691097"
      },
      "outputs": [
        {
          "name": "stdout",
          "output_type": "stream",
          "text": [
            "obs shape = (10000, 40, 40), action shape = (10000, 2)\n"
          ]
        }
      ],
      "source": [
        "#load data\n",
        "import numpy as np\n",
        "\n",
        "data_path = os.path.join(CURRENT_PATH, 'data/wrestling')\n",
        "demo_obs = np.load(os.path.join(data_path, 'obs_10000.npy'))\n",
        "demo_actions = np.load(os.path.join(data_path, 'actions_10000.npy'))\n",
        "\n",
        "print(f'obs shape = {demo_obs.shape}, action shape = {demo_actions.shape}')     "
      ]
    },
    {
      "cell_type": "code",
      "execution_count": null,
      "metadata": {
        "id": "92ln-_zxk9Xk"
      },
      "outputs": [],
      "source": [
        "# data preprocessing ,using DataLoader maybe?\n",
        "\n",
        "\n",
        "\n",
        "\n"
      ]
    },
    {
      "cell_type": "code",
      "execution_count": null,
      "metadata": {
        "id": "YmNXh6q8k9Xk"
      },
      "outputs": [],
      "source": [
        "#TODO: setup models \n",
        "\n",
        "class Net(nn.Module):\n",
        "    def __init__(self):\n",
        "        super(Net, self).__init__()\n",
        "\n",
        "    def forward(self, X):\n",
        "        #TODO\n",
        "\n",
        "        return "
      ]
    },
    {
      "cell_type": "code",
      "execution_count": null,
      "metadata": {
        "id": "fZqvpGWYk9Xk"
      },
      "outputs": [],
      "source": [
        "#Training loop\n",
        "\n",
        "\n",
        "\n",
        "\n"
      ]
    },
    {
      "cell_type": "markdown",
      "metadata": {
        "id": "9EXuudiLk9Xk"
      },
      "source": [
        "## Jidi 及第平台"
      ]
    },
    {
      "cell_type": "markdown",
      "metadata": {
        "id": "1R7Svfjtk9Xl"
      },
      "source": [
        "提交例子 /submission_example/submission"
      ]
    },
    {
      "cell_type": "code",
      "execution_count": null,
      "metadata": {
        "id": "uUrQcexGk9Xl",
        "outputId": "a2ea23e7-becc-40a6-ce66-8745f71fbb05"
      },
      "outputs": [
        {
          "name": "stdout",
          "output_type": "stream",
          "text": [
            "111.gif               RNN.png               pytorch_intro.ipynb\n",
            "AI-Olympics.png       SGD.png               pytorch_yan.ipynb\n",
            "ComputeGraph.png      WindowsInstall.png    scalar_grad.png\n",
            "Data_type.png         \u001b[34mdata\u001b[m\u001b[m/                 \u001b[34msubmission_example\u001b[m\u001b[m/\n",
            "MNIST1.png            index.png             tensor2.png\n",
            "MNIST2.png            matrices.png          tensors1.png\n",
            "MNIST3.png            net.pkl               torch_variable.png\n",
            "MacInstall.png        net_params.pkl        vectors.png\n",
            "Pytorch入门1.ipynb    \u001b[34molympics_engine\u001b[m\u001b[m/      \u001b[34myan\u001b[m\u001b[m/\n",
            "Pytorch入门2.ipynb    \u001b[34mpath\u001b[m\u001b[m/\n",
            "Pytorch入门3.ipynb    \u001b[34mppt\u001b[m\u001b[m/\n"
          ]
        }
      ],
      "source": [
        "ls"
      ]
    },
    {
      "cell_type": "code",
      "execution_count": null,
      "metadata": {
        "id": "7etnvuN2k9Xl"
      },
      "outputs": [],
      "source": [
        "!python submission_example/submission.py"
      ]
    }
  ],
  "metadata": {
    "colab": {
      "collapsed_sections": [
        "IRajhtvtk9XJ",
        "JMVfjI-rk9XJ",
        "Cns1SG5Ak9XK",
        "VU5Bovgrk9XL",
        "4FrytcDMuEtd",
        "DwCT-1vHk9Xc",
        "9uJWhZbzk9Xd",
        "N9FKfgBHk9Xf",
        "GrhYcrVKk9Xh"
      ],
      "name": "pytorch_intro.ipynb",
      "provenance": [],
      "include_colab_link": true
    },
    "kernelspec": {
      "display_name": "Python 3.9.13 ('exp-venv')",
      "language": "python",
      "name": "python3"
    },
    "language_info": {
      "codemirror_mode": {
        "name": "ipython",
        "version": 3
      },
      "file_extension": ".py",
      "mimetype": "text/x-python",
      "name": "python",
      "nbconvert_exporter": "python",
      "pygments_lexer": "ipython3",
      "version": "3.9.13"
    },
    "vscode": {
      "interpreter": {
        "hash": "bb7ddc6745e4de93dc6435923015d786e20a0d8784f7c4283d41f23eb753d5e1"
      }
    }
  },
  "nbformat": 4,
  "nbformat_minor": 0
}